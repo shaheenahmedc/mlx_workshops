{
 "cells": [
  {
   "cell_type": "code",
   "execution_count": 1,
   "id": "a5336027-6ab9-42e1-96a7-76ddac7d91d2",
   "metadata": {},
   "outputs": [],
   "source": [
    "import requests"
   ]
  },
  {
   "cell_type": "code",
   "execution_count": 8,
   "id": "09676d74-b05f-43f0-b28d-334e1c9d5c77",
   "metadata": {},
   "outputs": [],
   "source": [
    "import requests\n",
    "from bs4 import BeautifulSoup\n",
    "\n",
    "n = 5  # Number of pages you want to scrape\n",
    "base_url = \"https://news.ycombinator.com/\"\n",
    "\n",
    "response = requests.get(base_url)\n",
    "\n",
    "if response.status_code == 200:\n",
    "    soup = BeautifulSoup(response.content, 'html.parser')\n",
    "        \n",
    "else:\n",
    "    print(f\"Failed to retrieve page {page}\")\n"
   ]
  },
  {
   "cell_type": "code",
   "execution_count": 9,
   "id": "1a575283-5b0e-4829-9c5f-22b5a5f61b9d",
   "metadata": {},
   "outputs": [
    {
     "name": "stdout",
     "output_type": "stream",
     "text": [
      "<html lang=\"en\" op=\"news\"><head><meta content=\"origin\" name=\"referrer\"/><meta content=\"width=device-width, initial-scale=1.0\" name=\"viewport\"/><link href=\"news.css?CuI5BCI2TCsL65CdqqGq\" rel=\"stylesheet\" type=\"text/css\"/>\n",
      "<link href=\"y18.svg\" rel=\"icon\"/>\n",
      "<link href=\"rss\" rel=\"alternate\" title=\"RSS\" type=\"application/rss+xml\"/>\n",
      "<title>Hacker News</title></head><body><center><table bgcolor=\"#f6f6ef\" border=\"0\" cellpadding=\"0\" cellspacing=\"0\" id=\"hnmain\" width=\"85%\">\n",
      "<tr><td bgcolor=\"#ff6600\"><table border=\"0\" cellpadding=\"0\" cellspacing=\"0\" style=\"padding:2px\" width=\"100%\"><tr><td style=\"width:18px;padding-right:4px\"><a href=\"https://news.ycombinator.com\"><img height=\"18\" src=\"y18.svg\" style=\"border:1px white solid; display:block\" width=\"18\"/></a></td>\n",
      "<td style=\"line-height:12pt; height:10px;\"><span class=\"pagetop\"><b class=\"hnname\"><a href=\"news\">Hacker News</a></b>\n",
      "<a href=\"newest\">new</a> | <a href=\"front\">past</a> | <a href=\"newcomments\">comments</a> | <a href=\"ask\">ask</a> | <a href=\"show\">show</a> | <a href=\"jobs\">jobs</a> | <a href=\"submit\">submit</a> </span></td><td style=\"text-align:right;padding-right:4px;\"><span class=\"pagetop\">\n",
      "<a href=\"login?goto=news\">login</a>\n",
      "</span></td>\n",
      "</tr></table></td></tr>\n",
      "<tr id=\"pagespace\" style=\"height:10px\" title=\"\"></tr><tr><td><table border=\"0\" cellpadding=\"0\" cellspacing=\"0\">\n",
      "<tr class=\"athing\" id=\"39054671\">\n",
      "<td align=\"right\" class=\"title\" valign=\"top\"><span class=\"rank\">1.</span></td> <td class=\"votelinks\" valign=\"top\"><center><a href=\"vote?id=39054671&amp;how=up&amp;goto=news\" id=\"up_39054671\"><div class=\"votearrow\" title=\"upvote\"></div></a></center></td><td class=\"title\"><span class=\"titleline\"><a href=\"https://blog.chybby.com/posts/building-a-usb-snes-controller\">Building a USB SNES Controller</a><span class=\"sitebit comhead\"> (<a href=\"from?site=chybby.com\"><span class=\"sitestr\">chybby.com</span></a>)</span></span></td></tr><tr><td colspan=\"2\"></td><td class=\"subtext\"><span class=\"subline\">\n",
      "<span class=\"score\" id=\"score_39054671\">103 points</span> by <a class=\"hnuser\" href=\"user?id=chybby\">chybby</a> <span class=\"age\" title=\"2024-01-19T12:30:35\"><a href=\"item?id=39054671\">3 hours ago</a></span> <span id=\"unv_39054671\"></span> | <a href=\"hide?id=39054671&amp;goto=news\">hide</a> | <a href=\"item?id=39054671\">33 comments</a> </span>\n",
      "</td></tr>\n",
      "<tr class=\"spacer\" style=\"height:5px\"></tr>\n",
      "<tr class=\"athing\" id=\"39055164\">\n",
      "<td align=\"right\" class=\"title\" valign=\"top\"><span class=\"rank\">2.</span></td> <td class=\"votelinks\" valign=\"top\"><center><a href=\"vote?id=39055164&amp;how=up&amp;goto=news\" id=\"up_39055164\"><div class=\"votearrow\" title=\"upvote\"></div></a></center></td><td class=\"title\"><span class=\"titleline\"><a href=\"https://fernandovillalba.substack.com/p/devops-dont-destroy-silos-transform\">Silos are fine, as long as there is an API between them</a><span class=\"sitebit comhead\"> (<a href=\"from?site=fernandovillalba.substack.com\"><span class=\"sitestr\">fernandovillalba.substack.com</span></a>)</span></span></td></tr><tr><td colspan=\"2\"></td><td class=\"subtext\"><span class=\"subline\">\n",
      "<span class=\"score\" id=\"score_39055164\">47 points</span> by <a class=\"hnuser\" href=\"user?id=platformeng\">platformeng</a> <span class=\"age\" title=\"2024-01-19T13:32:08\"><a href=\"item?id=39055164\">2 hours ago</a></span> <span id=\"unv_39055164\"></span> | <a href=\"hide?id=39055164&amp;goto=news\">hide</a> | <a href=\"item?id=39055164\">28 comments</a> </span>\n",
      "</td></tr>\n",
      "<tr class=\"spacer\" style=\"height:5px\"></tr>\n",
      "<tr class=\"athing\" id=\"39049782\">\n",
      "<td align=\"right\" class=\"title\" valign=\"top\"><span class=\"rank\">3.</span></td> <td class=\"votelinks\" valign=\"top\"><center><a href=\"vote?id=39049782&amp;how=up&amp;goto=news\" id=\"up_39049782\"><div class=\"votearrow\" title=\"upvote\"></div></a></center></td><td class=\"title\"><span class=\"titleline\"><a href=\"https://blog.adafruit.com/2024/01/17/comparing-the-1970s-cray-1-supercomputer-against-the-raspberry-pi-single-board-computer-range-raspberrypi-hacksterio/\">Comparing the 1970's Cray-1 supercomputer against the Raspberry Pi</a><span class=\"sitebit comhead\"> (<a href=\"from?site=adafruit.com\"><span class=\"sitestr\">adafruit.com</span></a>)</span></span></td></tr><tr><td colspan=\"2\"></td><td class=\"subtext\"><span class=\"subline\">\n",
      "<span class=\"score\" id=\"score_39049782\">46 points</span> by <a class=\"hnuser\" href=\"user?id=mywacaday\">mywacaday</a> <span class=\"age\" title=\"2024-01-19T00:00:28\"><a href=\"item?id=39049782\">2 hours ago</a></span> <span id=\"unv_39049782\"></span> | <a href=\"hide?id=39049782&amp;goto=news\">hide</a> | <a href=\"item?id=39049782\">37 comments</a> </span>\n",
      "</td></tr>\n",
      "<tr class=\"spacer\" style=\"height:5px\"></tr>\n",
      "<tr class=\"athing\" id=\"39056169\">\n",
      "<td align=\"right\" class=\"title\" valign=\"top\"><span class=\"rank\">4.</span></td> <td class=\"votelinks\" valign=\"top\"><center><a href=\"vote?id=39056169&amp;how=up&amp;goto=news\" id=\"up_39056169\"><div class=\"votearrow\" title=\"upvote\"></div></a></center></td><td class=\"title\"><span class=\"titleline\"><a href=\"https://spectrum.ieee.org/graphene-semiconductor\">Researchers Claim First Functioning Graphene-Based Chip</a><span class=\"sitebit comhead\"> (<a href=\"from?site=ieee.org\"><span class=\"sitestr\">ieee.org</span></a>)</span></span></td></tr><tr><td colspan=\"2\"></td><td class=\"subtext\"><span class=\"subline\">\n",
      "<span class=\"score\" id=\"score_39056169\">10 points</span> by <a class=\"hnuser\" href=\"user?id=Brajeshwar\">Brajeshwar</a> <span class=\"age\" title=\"2024-01-19T14:52:41\"><a href=\"item?id=39056169\">53 minutes ago</a></span> <span id=\"unv_39056169\"></span> | <a href=\"hide?id=39056169&amp;goto=news\">hide</a> | <a href=\"item?id=39056169\">1 comment</a> </span>\n",
      "</td></tr>\n",
      "<tr class=\"spacer\" style=\"height:5px\"></tr>\n",
      "<tr class=\"athing\" id=\"39051246\">\n",
      "<td align=\"right\" class=\"title\" valign=\"top\"><span class=\"rank\">5.</span></td> <td class=\"votelinks\" valign=\"top\"><center><a href=\"vote?id=39051246&amp;how=up&amp;goto=news\" id=\"up_39051246\"><div class=\"votearrow\" title=\"upvote\"></div></a></center></td><td class=\"title\"><span class=\"titleline\"><a href=\"https://elists.isoc.org/pipermail/internet-history/2024-January/009265.html\">Dave Mills has died</a><span class=\"sitebit comhead\"> (<a href=\"from?site=isoc.org\"><span class=\"sitestr\">isoc.org</span></a>)</span></span></td></tr><tr><td colspan=\"2\"></td><td class=\"subtext\"><span class=\"subline\">\n",
      "<span class=\"score\" id=\"score_39051246\">487 points</span> by <a class=\"hnuser\" href=\"user?id=todsacerdoti\">todsacerdoti</a> <span class=\"age\" title=\"2024-01-19T03:27:58\"><a href=\"item?id=39051246\">12 hours ago</a></span> <span id=\"unv_39051246\"></span> | <a href=\"hide?id=39051246&amp;goto=news\">hide</a> | <a href=\"item?id=39051246\">51 comments</a> </span>\n",
      "</td></tr>\n",
      "<tr class=\"spacer\" style=\"height:5px\"></tr>\n",
      "<tr class=\"athing\" id=\"39052196\">\n",
      "<td align=\"right\" class=\"title\" valign=\"top\"><span class=\"rank\">6.</span></td> <td class=\"votelinks\" valign=\"top\"><center><a href=\"vote?id=39052196&amp;how=up&amp;goto=news\" id=\"up_39052196\"><div class=\"votearrow\" title=\"upvote\"></div></a></center></td><td class=\"title\"><span class=\"titleline\"><a href=\"https://workspaceupdates.googleblog.com/2023/09/winding-down-google-sync-and-less-secure-apps-support.html\">Winding down Google Sync and Less Secure Apps support</a><span class=\"sitebit comhead\"> (<a href=\"from?site=googleblog.com\"><span class=\"sitestr\">googleblog.com</span></a>)</span></span></td></tr><tr><td colspan=\"2\"></td><td class=\"subtext\"><span class=\"subline\">\n",
      "<span class=\"score\" id=\"score_39052196\">346 points</span> by <a class=\"hnuser\" href=\"user?id=sschueller\">sschueller</a> <span class=\"age\" title=\"2024-01-19T06:30:36\"><a href=\"item?id=39052196\">9 hours ago</a></span> <span id=\"unv_39052196\"></span> | <a href=\"hide?id=39052196&amp;goto=news\">hide</a> | <a href=\"item?id=39052196\">208 comments</a> </span>\n",
      "</td></tr>\n",
      "<tr class=\"spacer\" style=\"height:5px\"></tr>\n",
      "<tr class=\"athing\" id=\"39052219\">\n",
      "<td align=\"right\" class=\"title\" valign=\"top\"><span class=\"rank\">7.</span></td> <td class=\"votelinks\" valign=\"top\"><center><a href=\"vote?id=39052219&amp;how=up&amp;goto=news\" id=\"up_39052219\"><div class=\"votearrow\" title=\"upvote\"></div></a></center></td><td class=\"title\"><span class=\"titleline\"><a href=\"https://www.loadership.com/\">LoaderShip – CSS-Only Loaders</a><span class=\"sitebit comhead\"> (<a href=\"from?site=loadership.com\"><span class=\"sitestr\">loadership.com</span></a>)</span></span></td></tr><tr><td colspan=\"2\"></td><td class=\"subtext\"><span class=\"subline\">\n",
      "<span class=\"score\" id=\"score_39052219\">115 points</span> by <a class=\"hnuser\" href=\"user?id=marban\">marban</a> <span class=\"age\" title=\"2024-01-19T06:34:23\"><a href=\"item?id=39052219\">9 hours ago</a></span> <span id=\"unv_39052219\"></span> | <a href=\"hide?id=39052219&amp;goto=news\">hide</a> | <a href=\"item?id=39052219\">38 comments</a> </span>\n",
      "</td></tr>\n",
      "<tr class=\"spacer\" style=\"height:5px\"></tr>\n",
      "<tr class=\"athing\" id=\"39056104\">\n",
      "<td align=\"right\" class=\"title\" valign=\"top\"><span class=\"rank\">8.</span></td> <td class=\"votelinks\" valign=\"top\"><center><a href=\"vote?id=39056104&amp;how=up&amp;goto=news\" id=\"up_39056104\"><div class=\"votearrow\" title=\"upvote\"></div></a></center></td><td class=\"title\"><span class=\"titleline\"><a href=\"https://spectrum.ieee.org/methanol-energy-storage\">Backing up the power grid with green methanol</a><span class=\"sitebit comhead\"> (<a href=\"from?site=ieee.org\"><span class=\"sitestr\">ieee.org</span></a>)</span></span></td></tr><tr><td colspan=\"2\"></td><td class=\"subtext\"><span class=\"subline\">\n",
      "<span class=\"score\" id=\"score_39056104\">9 points</span> by <a class=\"hnuser\" href=\"user?id=SiempreViernes\">SiempreViernes</a> <span class=\"age\" title=\"2024-01-19T14:48:11\"><a href=\"item?id=39056104\">58 minutes ago</a></span> <span id=\"unv_39056104\"></span> | <a href=\"hide?id=39056104&amp;goto=news\">hide</a> | <a href=\"item?id=39056104\">1 comment</a> </span>\n",
      "</td></tr>\n",
      "<tr class=\"spacer\" style=\"height:5px\"></tr>\n",
      "<tr class=\"athing\" id=\"39056403\">\n",
      "<td align=\"right\" class=\"title\" valign=\"top\"><span class=\"rank\">9.</span></td> <td class=\"votelinks\" valign=\"top\"><center><a href=\"vote?id=39056403&amp;how=up&amp;goto=news\" id=\"up_39056403\"><div class=\"votearrow\" title=\"upvote\"></div></a></center></td><td class=\"title\"><span class=\"titleline\"><a href=\"https://www.youtube.com/watch?v=2-yBlZplnKQ\">Live: Japan's first-ever soft lunar landing attempt with SLIM spacecraft [video]</a><span class=\"sitebit comhead\"> (<a href=\"from?site=youtube.com\"><span class=\"sitestr\">youtube.com</span></a>)</span></span></td></tr><tr><td colspan=\"2\"></td><td class=\"subtext\"><span class=\"subline\">\n",
      "<span class=\"score\" id=\"score_39056403\">20 points</span> by <a class=\"hnuser\" href=\"user?id=NedF\">NedF</a> <span class=\"age\" title=\"2024-01-19T15:06:59\"><a href=\"item?id=39056403\">39 minutes ago</a></span> <span id=\"unv_39056403\"></span> | <a href=\"hide?id=39056403&amp;goto=news\">hide</a> | <a href=\"item?id=39056403\">6 comments</a> </span>\n",
      "</td></tr>\n",
      "<tr class=\"spacer\" style=\"height:5px\"></tr>\n",
      "<tr class=\"athing\" id=\"39049284\">\n",
      "<td align=\"right\" class=\"title\" valign=\"top\"><span class=\"rank\">10.</span></td> <td class=\"votelinks\" valign=\"top\"><center><a href=\"vote?id=39049284&amp;how=up&amp;goto=news\" id=\"up_39049284\"><div class=\"votearrow\" title=\"upvote\"></div></a></center></td><td class=\"title\"><span class=\"titleline\"><a href=\"https://aeon.co/essays/why-do-other-people-form-imaginary-shapes-in-our-minds\">The geometry of other people</a><span class=\"sitebit comhead\"> (<a href=\"from?site=aeon.co\"><span class=\"sitestr\">aeon.co</span></a>)</span></span></td></tr><tr><td colspan=\"2\"></td><td class=\"subtext\"><span class=\"subline\">\n",
      "<span class=\"score\" id=\"score_39049284\">41 points</span> by <a class=\"hnuser\" href=\"user?id=Petiver\">Petiver</a> <span class=\"age\" title=\"2024-01-18T23:13:04\"><a href=\"item?id=39049284\">7 hours ago</a></span> <span id=\"unv_39049284\"></span> | <a href=\"hide?id=39049284&amp;goto=news\">hide</a> | <a href=\"item?id=39049284\">2 comments</a> </span>\n",
      "</td></tr>\n",
      "<tr class=\"spacer\" style=\"height:5px\"></tr>\n",
      "<tr class=\"athing\" id=\"39054455\">\n",
      "<td align=\"right\" class=\"title\" valign=\"top\"><span class=\"rank\">11.</span></td> <td><img height=\"1\" src=\"s.gif\" width=\"14\"/></td> <td class=\"title\"><span class=\"titleline\"><a href=\"https://nango.dev/jobs\">Nango (YC W23) Is Hiring Back End Engineers (Remote)</a><span class=\"sitebit comhead\"> (<a href=\"from?site=nango.dev\"><span class=\"sitestr\">nango.dev</span></a>)</span></span></td></tr><tr><td colspan=\"2\"></td><td class=\"subtext\">\n",
      "<span class=\"age\" title=\"2024-01-19T12:00:09\"><a href=\"item?id=39054455\">3 hours ago</a></span> | <a href=\"hide?id=39054455&amp;goto=news\">hide</a> </td></tr>\n",
      "<tr class=\"spacer\" style=\"height:5px\"></tr>\n",
      "<tr class=\"athing\" id=\"39034603\">\n",
      "<td align=\"right\" class=\"title\" valign=\"top\"><span class=\"rank\">12.</span></td> <td class=\"votelinks\" valign=\"top\"><center><a href=\"vote?id=39034603&amp;how=up&amp;goto=news\" id=\"up_39034603\"><div class=\"votearrow\" title=\"upvote\"></div></a></center></td><td class=\"title\"><span class=\"titleline\"><a href=\"https://www.theguardian.com/culture/2024/jan/01/cerne-abbas-giant-is-hercules-and-was-army-meeting-point-say-historians\">Cerne Abbas giant is Hercules and was army meeting point, say historians</a><span class=\"sitebit comhead\"> (<a href=\"from?site=theguardian.com\"><span class=\"sitestr\">theguardian.com</span></a>)</span></span></td></tr><tr><td colspan=\"2\"></td><td class=\"subtext\"><span class=\"subline\">\n",
      "<span class=\"score\" id=\"score_39034603\">24 points</span> by <a class=\"hnuser\" href=\"user?id=diodorus\">diodorus</a> <span class=\"age\" title=\"2024-01-17T22:40:16\"><a href=\"item?id=39034603\">7 hours ago</a></span> <span id=\"unv_39034603\"></span> | <a href=\"hide?id=39034603&amp;goto=news\">hide</a> | <a href=\"item?id=39034603\">27 comments</a> </span>\n",
      "</td></tr>\n",
      "<tr class=\"spacer\" style=\"height:5px\"></tr>\n",
      "<tr class=\"athing\" id=\"39053830\">\n",
      "<td align=\"right\" class=\"title\" valign=\"top\"><span class=\"rank\">13.</span></td> <td class=\"votelinks\" valign=\"top\"><center><a href=\"vote?id=39053830&amp;how=up&amp;goto=news\" id=\"up_39053830\"><div class=\"votearrow\" title=\"upvote\"></div></a></center></td><td class=\"title\"><span class=\"titleline\"><a href=\"https://www.tomshardware.com/software/operating-systems/driver-hack-lets-you-run-linux-after-windows-bsods-no-reboot-required\">Driver hack lets you run Linux after Windows BSODs, no reboot required</a><span class=\"sitebit comhead\"> (<a href=\"from?site=tomshardware.com\"><span class=\"sitestr\">tomshardware.com</span></a>)</span></span></td></tr><tr><td colspan=\"2\"></td><td class=\"subtext\"><span class=\"subline\">\n",
      "<span class=\"score\" id=\"score_39053830\">83 points</span> by <a class=\"hnuser\" href=\"user?id=dragonbonheur\">dragonbonheur</a> <span class=\"age\" title=\"2024-01-19T10:30:03\"><a href=\"item?id=39053830\">5 hours ago</a></span> <span id=\"unv_39053830\"></span> | <a href=\"hide?id=39053830&amp;goto=news\">hide</a> | <a href=\"item?id=39053830\">33 comments</a> </span>\n",
      "</td></tr>\n",
      "<tr class=\"spacer\" style=\"height:5px\"></tr>\n",
      "<tr class=\"athing\" id=\"39028384\">\n",
      "<td align=\"right\" class=\"title\" valign=\"top\"><span class=\"rank\">14.</span></td> <td class=\"votelinks\" valign=\"top\"><center><a href=\"vote?id=39028384&amp;how=up&amp;goto=news\" id=\"up_39028384\"><div class=\"votearrow\" title=\"upvote\"></div></a></center></td><td class=\"title\"><span class=\"titleline\"><a href=\"https://www.planeandpilotmag.com/hearing-and-doing/\">Hearing and Doing</a><span class=\"sitebit comhead\"> (<a href=\"from?site=planeandpilotmag.com\"><span class=\"sitestr\">planeandpilotmag.com</span></a>)</span></span></td></tr><tr><td colspan=\"2\"></td><td class=\"subtext\"><span class=\"subline\">\n",
      "<span class=\"score\" id=\"score_39028384\">28 points</span> by <a class=\"hnuser\" href=\"user?id=1970-01-01\">1970-01-01</a> <span class=\"age\" title=\"2024-01-17T14:44:51\"><a href=\"item?id=39028384\">8 hours ago</a></span> <span id=\"unv_39028384\"></span> | <a href=\"hide?id=39028384&amp;goto=news\">hide</a> | <a href=\"item?id=39028384\">10 comments</a> </span>\n",
      "</td></tr>\n",
      "<tr class=\"spacer\" style=\"height:5px\"></tr>\n",
      "<tr class=\"athing\" id=\"39040014\">\n",
      "<td align=\"right\" class=\"title\" valign=\"top\"><span class=\"rank\">15.</span></td> <td class=\"votelinks\" valign=\"top\"><center><a href=\"vote?id=39040014&amp;how=up&amp;goto=news\" id=\"up_39040014\"><div class=\"votearrow\" title=\"upvote\"></div></a></center></td><td class=\"title\"><span class=\"titleline\"><a href=\"https://weather.com/science/nature/video/two-cicada-broods-unite-for-first-time-in-221-years\">Two Cicada Broods Emerge Together</a><span class=\"sitebit comhead\"> (<a href=\"from?site=weather.com\"><span class=\"sitestr\">weather.com</span></a>)</span></span></td></tr><tr><td colspan=\"2\"></td><td class=\"subtext\"><span class=\"subline\">\n",
      "<span class=\"score\" id=\"score_39040014\">23 points</span> by <a class=\"hnuser\" href=\"user?id=tapeloop\">tapeloop</a> <span class=\"age\" title=\"2024-01-18T10:11:12\"><a href=\"item?id=39040014\">4 hours ago</a></span> <span id=\"unv_39040014\"></span> | <a href=\"hide?id=39040014&amp;goto=news\">hide</a> | <a href=\"item?id=39040014\">20 comments</a> </span>\n",
      "</td></tr>\n",
      "<tr class=\"spacer\" style=\"height:5px\"></tr>\n",
      "<tr class=\"athing\" id=\"39051362\">\n",
      "<td align=\"right\" class=\"title\" valign=\"top\"><span class=\"rank\">16.</span></td> <td class=\"votelinks\" valign=\"top\"><center><a href=\"vote?id=39051362&amp;how=up&amp;goto=news\" id=\"up_39051362\"><div class=\"votearrow\" title=\"upvote\"></div></a></center></td><td class=\"title\"><span class=\"titleline\"><a href=\"https://orthic.shorthand.fun/\">Orthic Shorthand – Write as fast as you type</a><span class=\"sitebit comhead\"> (<a href=\"from?site=shorthand.fun\"><span class=\"sitestr\">shorthand.fun</span></a>)</span></span></td></tr><tr><td colspan=\"2\"></td><td class=\"subtext\"><span class=\"subline\">\n",
      "<span class=\"score\" id=\"score_39051362\">103 points</span> by <a class=\"hnuser\" href=\"user?id=saint11\">saint11</a> <span class=\"age\" title=\"2024-01-19T03:48:01\"><a href=\"item?id=39051362\">11 hours ago</a></span> <span id=\"unv_39051362\"></span> | <a href=\"hide?id=39051362&amp;goto=news\">hide</a> | <a href=\"item?id=39051362\">57 comments</a> </span>\n",
      "</td></tr>\n",
      "<tr class=\"spacer\" style=\"height:5px\"></tr>\n",
      "<tr class=\"athing\" id=\"39048317\">\n",
      "<td align=\"right\" class=\"title\" valign=\"top\"><span class=\"rank\">17.</span></td> <td class=\"votelinks\" valign=\"top\"><center><a href=\"vote?id=39048317&amp;how=up&amp;goto=news\" id=\"up_39048317\"><div class=\"votearrow\" title=\"upvote\"></div></a></center></td><td class=\"title\"><span class=\"titleline\"><a href=\"https://gds.blog.gov.uk/2024/01/17/how-we-migrated-our-postgresql-database-with-11-seconds-downtime/\">We migrated our PostgreSQL database with 11 seconds downtime</a><span class=\"sitebit comhead\"> (<a href=\"from?site=gds.blog.gov.uk\"><span class=\"sitestr\">gds.blog.gov.uk</span></a>)</span></span></td></tr><tr><td colspan=\"2\"></td><td class=\"subtext\"><span class=\"subline\">\n",
      "<span class=\"score\" id=\"score_39048317\">468 points</span> by <a class=\"hnuser\" href=\"user?id=sh_tomer\">sh_tomer</a> <span class=\"age\" title=\"2024-01-18T21:51:05\"><a href=\"item?id=39048317\">17 hours ago</a></span> <span id=\"unv_39048317\"></span> | <a href=\"hide?id=39048317&amp;goto=news\">hide</a> | <a href=\"item?id=39048317\">171 comments</a> </span>\n",
      "</td></tr>\n",
      "<tr class=\"spacer\" style=\"height:5px\"></tr>\n",
      "<tr class=\"athing\" id=\"39046697\">\n",
      "<td align=\"right\" class=\"title\" valign=\"top\"><span class=\"rank\">18.</span></td> <td class=\"votelinks\" valign=\"top\"><center><a href=\"vote?id=39046697&amp;how=up&amp;goto=news\" id=\"up_39046697\"><div class=\"votearrow\" title=\"upvote\"></div></a></center></td><td class=\"title\"><span class=\"titleline\"><a href=\"https://news.northwestern.edu/stories/2024/01/dirt-powered-fuel-cell-runs-forever/\" rel=\"nofollow\">A fuel cell that harvests energy from microbes living in dirt</a><span class=\"sitebit comhead\"> (<a href=\"from?site=northwestern.edu\"><span class=\"sitestr\">northwestern.edu</span></a>)</span></span></td></tr><tr><td colspan=\"2\"></td><td class=\"subtext\"><span class=\"subline\">\n",
      "<span class=\"score\" id=\"score_39046697\">4 points</span> by <a class=\"hnuser\" href=\"user?id=wglb\">wglb</a> <span class=\"age\" title=\"2024-01-18T19:50:24\"><a href=\"item?id=39046697\">2 hours ago</a></span> <span id=\"unv_39046697\"></span> | <a href=\"hide?id=39046697&amp;goto=news\">hide</a> | <a href=\"item?id=39046697\">discuss</a> </span>\n",
      "</td></tr>\n",
      "<tr class=\"spacer\" style=\"height:5px\"></tr>\n",
      "<tr class=\"athing\" id=\"39025631\">\n",
      "<td align=\"right\" class=\"title\" valign=\"top\"><span class=\"rank\">19.</span></td> <td class=\"votelinks\" valign=\"top\"><center><a href=\"vote?id=39025631&amp;how=up&amp;goto=news\" id=\"up_39025631\"><div class=\"votearrow\" title=\"upvote\"></div></a></center></td><td class=\"title\"><span class=\"titleline\"><a href=\"https://bleuje.com/randomanimations/\">Random Animations</a><span class=\"sitebit comhead\"> (<a href=\"from?site=bleuje.com\"><span class=\"sitestr\">bleuje.com</span></a>)</span></span></td></tr><tr><td colspan=\"2\"></td><td class=\"subtext\"><span class=\"subline\">\n",
      "<span class=\"score\" id=\"score_39025631\">432 points</span> by <a class=\"hnuser\" href=\"user?id=ggrelet\">ggrelet</a> <span class=\"age\" title=\"2024-01-17T09:51:43\"><a href=\"item?id=39025631\">17 hours ago</a></span> <span id=\"unv_39025631\"></span> | <a href=\"hide?id=39025631&amp;goto=news\">hide</a> | <a href=\"item?id=39025631\">55 comments</a> </span>\n",
      "</td></tr>\n",
      "<tr class=\"spacer\" style=\"height:5px\"></tr>\n",
      "<tr class=\"athing\" id=\"39049999\">\n",
      "<td align=\"right\" class=\"title\" valign=\"top\"><span class=\"rank\">20.</span></td> <td class=\"votelinks\" valign=\"top\"><center><a href=\"vote?id=39049999&amp;how=up&amp;goto=news\" id=\"up_39049999\"><div class=\"votearrow\" title=\"upvote\"></div></a></center></td><td class=\"title\"><span class=\"titleline\"><a href=\"https://www.atlasobscura.com/articles/ocean-floor-holes-purposes-eels\">Why holes at the bottom of the ocean disappear and reappear</a><span class=\"sitebit comhead\"> (<a href=\"from?site=atlasobscura.com\"><span class=\"sitestr\">atlasobscura.com</span></a>)</span></span></td></tr><tr><td colspan=\"2\"></td><td class=\"subtext\"><span class=\"subline\">\n",
      "<span class=\"score\" id=\"score_39049999\">78 points</span> by <a class=\"hnuser\" href=\"user?id=jyunwai\">jyunwai</a> <span class=\"age\" title=\"2024-01-19T00:26:28\"><a href=\"item?id=39049999\">13 hours ago</a></span> <span id=\"unv_39049999\"></span> | <a href=\"hide?id=39049999&amp;goto=news\">hide</a> | <a href=\"item?id=39049999\">14 comments</a> </span>\n",
      "</td></tr>\n",
      "<tr class=\"spacer\" style=\"height:5px\"></tr>\n",
      "<tr class=\"athing\" id=\"39051876\">\n",
      "<td align=\"right\" class=\"title\" valign=\"top\"><span class=\"rank\">21.</span></td> <td class=\"votelinks\" valign=\"top\"><center><a href=\"vote?id=39051876&amp;how=up&amp;goto=news\" id=\"up_39051876\"><div class=\"votearrow\" title=\"upvote\"></div></a></center></td><td class=\"title\"><span class=\"titleline\"><a href=\"https://brooker.co.za/blog/2024/01/18/scalability.html\">What Is Scalability Anyway?</a><span class=\"sitebit comhead\"> (<a href=\"from?site=brooker.co.za\"><span class=\"sitestr\">brooker.co.za</span></a>)</span></span></td></tr><tr><td colspan=\"2\"></td><td class=\"subtext\"><span class=\"subline\">\n",
      "<span class=\"score\" id=\"score_39051876\">27 points</span> by <a class=\"hnuser\" href=\"user?id=r4um\">r4um</a> <span class=\"age\" title=\"2024-01-19T05:28:14\"><a href=\"item?id=39051876\">10 hours ago</a></span> <span id=\"unv_39051876\"></span> | <a href=\"hide?id=39051876&amp;goto=news\">hide</a> | <a href=\"item?id=39051876\">4 comments</a> </span>\n",
      "</td></tr>\n",
      "<tr class=\"spacer\" style=\"height:5px\"></tr>\n",
      "<tr class=\"athing\" id=\"39051508\">\n",
      "<td align=\"right\" class=\"title\" valign=\"top\"><span class=\"rank\">22.</span></td> <td class=\"votelinks\" valign=\"top\"><center><a href=\"vote?id=39051508&amp;how=up&amp;goto=news\" id=\"up_39051508\"><div class=\"votearrow\" title=\"upvote\"></div></a></center></td><td class=\"title\"><span class=\"titleline\"><a href=\"https://www.tbray.org/ongoing/When/202x/2024/01/15/Google-2024\">Mourning Google</a><span class=\"sitebit comhead\"> (<a href=\"from?site=tbray.org\"><span class=\"sitestr\">tbray.org</span></a>)</span></span></td></tr><tr><td colspan=\"2\"></td><td class=\"subtext\"><span class=\"subline\">\n",
      "<span class=\"score\" id=\"score_39051508\">341 points</span> by <a class=\"hnuser\" href=\"user?id=cdme\">cdme</a> <span class=\"age\" title=\"2024-01-19T04:17:13\"><a href=\"item?id=39051508\">11 hours ago</a></span> <span id=\"unv_39051508\"></span> | <a href=\"hide?id=39051508&amp;goto=news\">hide</a> | <a href=\"item?id=39051508\">277 comments</a> </span>\n",
      "</td></tr>\n",
      "<tr class=\"spacer\" style=\"height:5px\"></tr>\n",
      "<tr class=\"athing\" id=\"39046904\">\n",
      "<td align=\"right\" class=\"title\" valign=\"top\"><span class=\"rank\">23.</span></td> <td class=\"votelinks\" valign=\"top\"><center><a href=\"vote?id=39046904&amp;how=up&amp;goto=news\" id=\"up_39046904\"><div class=\"votearrow\" title=\"upvote\"></div></a></center></td><td class=\"title\"><span class=\"titleline\"><a href=\"https://harpers.org/archive/2024/02/lost-highway-emily-gogolak/\">Lost Highway: The trials of trucking school</a><span class=\"sitebit comhead\"> (<a href=\"from?site=harpers.org\"><span class=\"sitestr\">harpers.org</span></a>)</span></span></td></tr><tr><td colspan=\"2\"></td><td class=\"subtext\"><span class=\"subline\">\n",
      "<span class=\"score\" id=\"score_39046904\">22 points</span> by <a class=\"hnuser\" href=\"user?id=samclemens\">samclemens</a> <span class=\"age\" title=\"2024-01-18T20:05:58\"><a href=\"item?id=39046904\">8 hours ago</a></span> <span id=\"unv_39046904\"></span> | <a href=\"hide?id=39046904&amp;goto=news\">hide</a> | <a href=\"item?id=39046904\">18 comments</a> </span>\n",
      "</td></tr>\n",
      "<tr class=\"spacer\" style=\"height:5px\"></tr>\n",
      "<tr class=\"athing\" id=\"39046190\">\n",
      "<td align=\"right\" class=\"title\" valign=\"top\"><span class=\"rank\">24.</span></td> <td class=\"votelinks\" valign=\"top\"><center><a href=\"vote?id=39046190&amp;how=up&amp;goto=news\" id=\"up_39046190\"><div class=\"votearrow\" title=\"upvote\"></div></a></center></td><td class=\"title\"><span class=\"titleline\"><a href=\"https://www.lrb.co.uk/the-paper/v46/n02/susan-eilenberg/hooted-from-the-stage\" rel=\"nofollow\">Hooted from the Stage: review of two new books on Keats</a><span class=\"sitebit comhead\"> (<a href=\"from?site=lrb.co.uk\"><span class=\"sitestr\">lrb.co.uk</span></a>)</span></span></td></tr><tr><td colspan=\"2\"></td><td class=\"subtext\"><span class=\"subline\">\n",
      "<span class=\"score\" id=\"score_39046190\">9 points</span> by <a class=\"hnuser\" href=\"user?id=apollinaire\">apollinaire</a> <span class=\"age\" title=\"2024-01-18T19:10:42\"><a href=\"item?id=39046190\">5 hours ago</a></span> <span id=\"unv_39046190\"></span> | <a href=\"hide?id=39046190&amp;goto=news\">hide</a> | <a href=\"item?id=39046190\">1 comment</a> </span>\n",
      "</td></tr>\n",
      "<tr class=\"spacer\" style=\"height:5px\"></tr>\n",
      "<tr class=\"athing\" id=\"39051691\">\n",
      "<td align=\"right\" class=\"title\" valign=\"top\"><span class=\"rank\">25.</span></td> <td class=\"votelinks\" valign=\"top\"><center><a href=\"vote?id=39051691&amp;how=up&amp;goto=news\" id=\"up_39051691\"><div class=\"votearrow\" title=\"upvote\"></div></a></center></td><td class=\"title\"><span class=\"titleline\"><a href=\"https://www.fortressofdoors.com/four-magic-words/\">Four Magic Words</a><span class=\"sitebit comhead\"> (<a href=\"from?site=fortressofdoors.com\"><span class=\"sitestr\">fortressofdoors.com</span></a>)</span></span></td></tr><tr><td colspan=\"2\"></td><td class=\"subtext\"><span class=\"subline\">\n",
      "<span class=\"score\" id=\"score_39051691\">86 points</span> by <a class=\"hnuser\" href=\"user?id=archagon\">archagon</a> <span class=\"age\" title=\"2024-01-19T04:54:56\"><a href=\"item?id=39051691\">9 hours ago</a></span> <span id=\"unv_39051691\"></span> | <a href=\"hide?id=39051691&amp;goto=news\">hide</a> | <a href=\"item?id=39051691\">35 comments</a> </span>\n",
      "</td></tr>\n",
      "<tr class=\"spacer\" style=\"height:5px\"></tr>\n",
      "<tr class=\"athing\" id=\"39056159\">\n",
      "<td align=\"right\" class=\"title\" valign=\"top\"><span class=\"rank\">26.</span></td> <td class=\"votelinks\" valign=\"top\"><center><a href=\"vote?id=39056159&amp;how=up&amp;goto=news\" id=\"up_39056159\"><div class=\"votearrow\" title=\"upvote\"></div></a></center></td><td class=\"title\"><span class=\"titleline\"><a href=\"https://www.semafor.com/article/01/19/2024/japan-attempts-historic-moon-landing\" rel=\"nofollow\">Japan attempts historic moon landing</a><span class=\"sitebit comhead\"> (<a href=\"from?site=semafor.com\"><span class=\"sitestr\">semafor.com</span></a>)</span></span></td></tr><tr><td colspan=\"2\"></td><td class=\"subtext\"><span class=\"subline\">\n",
      "<span class=\"score\" id=\"score_39056159\">6 points</span> by <a class=\"hnuser\" href=\"user?id=marban\">marban</a> <span class=\"age\" title=\"2024-01-19T14:52:14\"><a href=\"item?id=39056159\">54 minutes ago</a></span> <span id=\"unv_39056159\"></span> | <a href=\"hide?id=39056159&amp;goto=news\">hide</a> | <a href=\"item?id=39056159\">3 comments</a> </span>\n",
      "</td></tr>\n",
      "<tr class=\"spacer\" style=\"height:5px\"></tr>\n",
      "<tr class=\"athing\" id=\"39047825\">\n",
      "<td align=\"right\" class=\"title\" valign=\"top\"><span class=\"rank\">27.</span></td> <td class=\"votelinks\" valign=\"top\"><center><a href=\"vote?id=39047825&amp;how=up&amp;goto=news\" id=\"up_39047825\"><div class=\"votearrow\" title=\"upvote\"></div></a></center></td><td class=\"title\"><span class=\"titleline\"><a href=\"https://gmays.com/how-im-relearning-math-as-an-adult/\">Relearning math as an adult</a><span class=\"sitebit comhead\"> (<a href=\"from?site=gmays.com\"><span class=\"sitestr\">gmays.com</span></a>)</span></span></td></tr><tr><td colspan=\"2\"></td><td class=\"subtext\"><span class=\"subline\">\n",
      "<span class=\"score\" id=\"score_39047825\">319 points</span> by <a class=\"hnuser\" href=\"user?id=gmays\">gmays</a> <span class=\"age\" title=\"2024-01-18T21:12:54\"><a href=\"item?id=39047825\">18 hours ago</a></span> <span id=\"unv_39047825\"></span> | <a href=\"hide?id=39047825&amp;goto=news\">hide</a> | <a href=\"item?id=39047825\">182 comments</a> </span>\n",
      "</td></tr>\n",
      "<tr class=\"spacer\" style=\"height:5px\"></tr>\n",
      "<tr class=\"athing\" id=\"39043871\">\n",
      "<td align=\"right\" class=\"title\" valign=\"top\"><span class=\"rank\">28.</span></td> <td class=\"votelinks\" valign=\"top\"><center><a href=\"vote?id=39043871&amp;how=up&amp;goto=news\" id=\"up_39043871\"><div class=\"votearrow\" title=\"upvote\"></div></a></center></td><td class=\"title\"><span class=\"titleline\"><a href=\"https://waxy.org/2024/01/the-quiet-death-of-ellos-big-dreams/\">The quiet death of Ello's big dreams</a><span class=\"sitebit comhead\"> (<a href=\"from?site=waxy.org\"><span class=\"sitestr\">waxy.org</span></a>)</span></span></td></tr><tr><td colspan=\"2\"></td><td class=\"subtext\"><span class=\"subline\">\n",
      "<span class=\"score\" id=\"score_39043871\">447 points</span> by <a class=\"hnuser\" href=\"user?id=waxpancake\">waxpancake</a> <span class=\"age\" title=\"2024-01-18T16:35:59\"><a href=\"item?id=39043871\">23 hours ago</a></span> <span id=\"unv_39043871\"></span> | <a href=\"hide?id=39043871&amp;goto=news\">hide</a> | <a href=\"item?id=39043871\">231 comments</a> </span>\n",
      "</td></tr>\n",
      "<tr class=\"spacer\" style=\"height:5px\"></tr>\n",
      "<tr class=\"athing\" id=\"39055200\">\n",
      "<td align=\"right\" class=\"title\" valign=\"top\"><span class=\"rank\">29.</span></td> <td class=\"votelinks\" valign=\"top\"><center><a href=\"vote?id=39055200&amp;how=up&amp;goto=news\" id=\"up_39055200\"><div class=\"votearrow\" title=\"upvote\"></div></a></center></td><td class=\"title\"><span class=\"titleline\"><a href=\"https://bigthink.com/starts-with-a-bang/what-explains-fibonacci-sequence/\">What Explains the Fibonacci Sequence?</a><span class=\"sitebit comhead\"> (<a href=\"from?site=bigthink.com\"><span class=\"sitestr\">bigthink.com</span></a>)</span></span></td></tr><tr><td colspan=\"2\"></td><td class=\"subtext\"><span class=\"subline\">\n",
      "<span class=\"score\" id=\"score_39055200\">16 points</span> by <a class=\"hnuser\" href=\"user?id=sohkamyung\">sohkamyung</a> <span class=\"age\" title=\"2024-01-19T13:35:10\"><a href=\"item?id=39055200\">2 hours ago</a></span> <span id=\"unv_39055200\"></span> | <a href=\"hide?id=39055200&amp;goto=news\">hide</a> | <a href=\"item?id=39055200\">discuss</a> </span>\n",
      "</td></tr>\n",
      "<tr class=\"spacer\" style=\"height:5px\"></tr>\n",
      "<tr class=\"athing\" id=\"39050905\">\n",
      "<td align=\"right\" class=\"title\" valign=\"top\"><span class=\"rank\">30.</span></td> <td class=\"votelinks\" valign=\"top\"><center><a href=\"vote?id=39050905&amp;how=up&amp;goto=news\" id=\"up_39050905\"><div class=\"votearrow\" title=\"upvote\"></div></a></center></td><td class=\"title\"><span class=\"titleline\"><a href=\"https://zlinky.com/\">Show HN: Lightweight Productivity Tool</a><span class=\"sitebit comhead\"> (<a href=\"from?site=zlinky.com\"><span class=\"sitestr\">zlinky.com</span></a>)</span></span></td></tr><tr><td colspan=\"2\"></td><td class=\"subtext\"><span class=\"subline\">\n",
      "<span class=\"score\" id=\"score_39050905\">37 points</span> by <a class=\"hnuser\" href=\"user?id=ke_ga\">ke_ga</a> <span class=\"age\" title=\"2024-01-19T02:28:24\"><a href=\"item?id=39050905\">13 hours ago</a></span> <span id=\"unv_39050905\"></span> | <a href=\"hide?id=39050905&amp;goto=news\">hide</a> | <a href=\"item?id=39050905\">13 comments</a> </span>\n",
      "</td></tr>\n",
      "<tr class=\"spacer\" style=\"height:5px\"></tr>\n",
      "<tr class=\"morespace\" style=\"height:10px\"></tr><tr><td colspan=\"2\"></td>\n",
      "<td class=\"title\"><a class=\"morelink\" href=\"?p=2\" rel=\"next\">More</a></td> </tr>\n",
      "</table>\n",
      "</td></tr>\n",
      "<tr><td><img height=\"10\" src=\"s.gif\" width=\"0\"/><table cellpadding=\"1\" cellspacing=\"0\" width=\"100%\"><tr><td bgcolor=\"#ff6600\"></td></tr></table><br/>\n",
      "<center><span class=\"yclinks\"><a href=\"newsguidelines.html\">Guidelines</a> | <a href=\"newsfaq.html\">FAQ</a> | <a href=\"lists\">Lists</a> | <a href=\"https://github.com/HackerNews/API\">API</a> | <a href=\"security.html\">Security</a> | <a href=\"https://www.ycombinator.com/legal/\">Legal</a> | <a href=\"https://www.ycombinator.com/apply/\">Apply to YC</a> | <a href=\"mailto:hn@ycombinator.com\">Contact</a></span><br/><br/>\n",
      "<form action=\"//hn.algolia.com/\" method=\"get\">Search: <input autocapitalize=\"off\" autocomplete=\"false\" autocorrect=\"off\" name=\"q\" size=\"17\" spellcheck=\"false\" type=\"text\"/></form></center></td></tr> </table></center></body>\n",
      "<script src=\"hn.js?CuI5BCI2TCsL65CdqqGq\" type=\"text/javascript\"></script>\n",
      "</html>\n",
      "\n"
     ]
    }
   ],
   "source": [
    "print (soup)"
   ]
  },
  {
   "cell_type": "code",
   "execution_count": 14,
   "id": "77b3f8ff-8bb8-4766-8946-fb49185dc901",
   "metadata": {},
   "outputs": [
    {
     "name": "stdout",
     "output_type": "stream",
     "text": [
      "Title: Building a USB SNES Controller(chybby.com)\n",
      "Link: https://blog.chybby.com/posts/building-a-usb-snes-controller\n",
      "Points: No points\n",
      "\n",
      "Title: Silos are fine, as long as there is an API between them(fernandovillalba.substack.com)\n",
      "Link: https://fernandovillalba.substack.com/p/devops-dont-destroy-silos-transform\n",
      "Points: No points\n",
      "\n",
      "Title: Comparing the 1970's Cray-1 supercomputer against the Raspberry Pi(adafruit.com)\n",
      "Link: https://blog.adafruit.com/2024/01/17/comparing-the-1970s-cray-1-supercomputer-against-the-raspberry-pi-single-board-computer-range-raspberrypi-hacksterio/\n",
      "Points: No points\n",
      "\n",
      "Title: Researchers Claim First Functioning Graphene-Based Chip(ieee.org)\n",
      "Link: https://spectrum.ieee.org/graphene-semiconductor\n",
      "Points: No points\n",
      "\n",
      "Title: Dave Mills has died(isoc.org)\n",
      "Link: https://elists.isoc.org/pipermail/internet-history/2024-January/009265.html\n",
      "Points: No points\n",
      "\n",
      "Title: Winding down Google Sync and Less Secure Apps support(googleblog.com)\n",
      "Link: https://workspaceupdates.googleblog.com/2023/09/winding-down-google-sync-and-less-secure-apps-support.html\n",
      "Points: No points\n",
      "\n",
      "Title: LoaderShip – CSS-Only Loaders(loadership.com)\n",
      "Link: https://www.loadership.com/\n",
      "Points: No points\n",
      "\n",
      "Title: Backing up the power grid with green methanol(ieee.org)\n",
      "Link: https://spectrum.ieee.org/methanol-energy-storage\n",
      "Points: No points\n",
      "\n",
      "Title: Live: Japan's first-ever soft lunar landing attempt with SLIM spacecraft [video](youtube.com)\n",
      "Link: https://www.youtube.com/watch?v=2-yBlZplnKQ\n",
      "Points: No points\n",
      "\n",
      "Title: The geometry of other people(aeon.co)\n",
      "Link: https://aeon.co/essays/why-do-other-people-form-imaginary-shapes-in-our-minds\n",
      "Points: No points\n",
      "\n",
      "Title: Nango (YC W23) Is Hiring Back End Engineers (Remote)(nango.dev)\n",
      "Link: https://nango.dev/jobs\n",
      "Points: No points\n",
      "\n",
      "Title: Cerne Abbas giant is Hercules and was army meeting point, say historians(theguardian.com)\n",
      "Link: https://www.theguardian.com/culture/2024/jan/01/cerne-abbas-giant-is-hercules-and-was-army-meeting-point-say-historians\n",
      "Points: No points\n",
      "\n",
      "Title: Driver hack lets you run Linux after Windows BSODs, no reboot required(tomshardware.com)\n",
      "Link: https://www.tomshardware.com/software/operating-systems/driver-hack-lets-you-run-linux-after-windows-bsods-no-reboot-required\n",
      "Points: No points\n",
      "\n",
      "Title: Hearing and Doing(planeandpilotmag.com)\n",
      "Link: https://www.planeandpilotmag.com/hearing-and-doing/\n",
      "Points: No points\n",
      "\n",
      "Title: Two Cicada Broods Emerge Together(weather.com)\n",
      "Link: https://weather.com/science/nature/video/two-cicada-broods-unite-for-first-time-in-221-years\n",
      "Points: No points\n",
      "\n",
      "Title: Orthic Shorthand – Write as fast as you type(shorthand.fun)\n",
      "Link: https://orthic.shorthand.fun/\n",
      "Points: No points\n",
      "\n",
      "Title: We migrated our PostgreSQL database with 11 seconds downtime(gds.blog.gov.uk)\n",
      "Link: https://gds.blog.gov.uk/2024/01/17/how-we-migrated-our-postgresql-database-with-11-seconds-downtime/\n",
      "Points: No points\n",
      "\n",
      "Title: A fuel cell that harvests energy from microbes living in dirt(northwestern.edu)\n",
      "Link: https://news.northwestern.edu/stories/2024/01/dirt-powered-fuel-cell-runs-forever/\n",
      "Points: No points\n",
      "\n",
      "Title: Random Animations(bleuje.com)\n",
      "Link: https://bleuje.com/randomanimations/\n",
      "Points: No points\n",
      "\n",
      "Title: Why holes at the bottom of the ocean disappear and reappear(atlasobscura.com)\n",
      "Link: https://www.atlasobscura.com/articles/ocean-floor-holes-purposes-eels\n",
      "Points: No points\n",
      "\n",
      "Title: What Is Scalability Anyway?(brooker.co.za)\n",
      "Link: https://brooker.co.za/blog/2024/01/18/scalability.html\n",
      "Points: No points\n",
      "\n",
      "Title: Mourning Google(tbray.org)\n",
      "Link: https://www.tbray.org/ongoing/When/202x/2024/01/15/Google-2024\n",
      "Points: No points\n",
      "\n",
      "Title: Lost Highway: The trials of trucking school(harpers.org)\n",
      "Link: https://harpers.org/archive/2024/02/lost-highway-emily-gogolak/\n",
      "Points: No points\n",
      "\n",
      "Title: Hooted from the Stage: review of two new books on Keats(lrb.co.uk)\n",
      "Link: https://www.lrb.co.uk/the-paper/v46/n02/susan-eilenberg/hooted-from-the-stage\n",
      "Points: No points\n",
      "\n",
      "Title: Four Magic Words(fortressofdoors.com)\n",
      "Link: https://www.fortressofdoors.com/four-magic-words/\n",
      "Points: No points\n",
      "\n",
      "Title: Japan attempts historic moon landing(semafor.com)\n",
      "Link: https://www.semafor.com/article/01/19/2024/japan-attempts-historic-moon-landing\n",
      "Points: No points\n",
      "\n",
      "Title: Relearning math as an adult(gmays.com)\n",
      "Link: https://gmays.com/how-im-relearning-math-as-an-adult/\n",
      "Points: No points\n",
      "\n",
      "Title: The quiet death of Ello's big dreams(waxy.org)\n",
      "Link: https://waxy.org/2024/01/the-quiet-death-of-ellos-big-dreams/\n",
      "Points: No points\n",
      "\n",
      "Title: What Explains the Fibonacci Sequence?(bigthink.com)\n",
      "Link: https://bigthink.com/starts-with-a-bang/what-explains-fibonacci-sequence/\n",
      "Points: No points\n",
      "\n",
      "Title: Show HN: Lightweight Productivity Tool(zlinky.com)\n",
      "Link: https://zlinky.com/\n",
      "Points: No points\n",
      "\n"
     ]
    }
   ],
   "source": [
    "from bs4 import BeautifulSoup\n",
    "\n",
    "html_content = str(soup)\n",
    "\n",
    "soup = BeautifulSoup(html_content, 'html.parser')\n",
    "# Find all posts\n",
    "posts = soup.find_all('tr', class_='athing')\n",
    "\n",
    "# Extract information from each post\n",
    "for post in posts:\n",
    "    title_tag = post.find('span', class_='titleline')\n",
    "    if title_tag:\n",
    "        title = title_tag.get_text(strip=True)\n",
    "        link = title_tag.a['href']  # Get the href attribute of the <a> tag\n",
    "\n",
    "    score_tag = post.find('span', class_='score')\n",
    "    if score_tag:\n",
    "        points = score_tag.get_text(strip=True)\n",
    "    else:\n",
    "        points = 'No points'\n",
    "\n",
    "    print(f\"Title: {title}\\nLink: {link}\\nPoints: {points}\\n\")"
   ]
  },
  {
   "cell_type": "code",
   "execution_count": null,
   "id": "c0f6e66d-d885-48e5-9cb4-ee8ba208932b",
   "metadata": {},
   "outputs": [],
   "source": []
  },
  {
   "cell_type": "code",
   "execution_count": 16,
   "id": "78ecb784-7f58-42db-a0b4-f9b30d0dc450",
   "metadata": {},
   "outputs": [],
   "source": [
    "import psycopg2"
   ]
  },
  {
   "cell_type": "code",
   "execution_count": 17,
   "id": "7c201047-41fd-4199-8784-e1ac0428eee1",
   "metadata": {},
   "outputs": [],
   "source": [
    "conn = psycopg2.connect(\n",
    "    host=\"localhost\",\n",
    "    database=\"mydatabase\",\n",
    "    user=\"myuser\",\n",
    "    password=\"mysecretpassword\",\n",
    "    port=\"5432\"\n",
    ")"
   ]
  },
  {
   "cell_type": "code",
   "execution_count": 20,
   "id": "f4885701-5b2f-4bd1-bd12-81ba8a9589ee",
   "metadata": {},
   "outputs": [],
   "source": [
    "cur = conn.cursor()\n",
    "sql = \"\"\"CREATE TABLE my_table (title VARCHAR(255), link VARCHAR(255));\"\"\"\n",
    "# data = (\"value1\", \"value2\", \"value3\")\n",
    "cur.execute(sql)\n",
    "conn.commit()\n",
    "cur.close()\n",
    "conn.close()\n"
   ]
  },
  {
   "cell_type": "code",
   "execution_count": 27,
   "id": "39c65125-a2d2-417f-a773-fe869201b816",
   "metadata": {},
   "outputs": [
    {
     "name": "stdout",
     "output_type": "stream",
     "text": [
      "Title: Building a USB SNES Controller(chybby.com)\n",
      "Link: https://blog.chybby.com/posts/building-a-usb-snes-controller\n",
      "Points: No points\n",
      "\n",
      "Title: Silos are fine, as long as there is an API between them(fernandovillalba.substack.com)\n",
      "Link: https://fernandovillalba.substack.com/p/devops-dont-destroy-silos-transform\n",
      "Points: No points\n",
      "\n",
      "Title: Comparing the 1970's Cray-1 supercomputer against the Raspberry Pi(adafruit.com)\n",
      "Link: https://blog.adafruit.com/2024/01/17/comparing-the-1970s-cray-1-supercomputer-against-the-raspberry-pi-single-board-computer-range-raspberrypi-hacksterio/\n",
      "Points: No points\n",
      "\n",
      "Title: Researchers Claim First Functioning Graphene-Based Chip(ieee.org)\n",
      "Link: https://spectrum.ieee.org/graphene-semiconductor\n",
      "Points: No points\n",
      "\n",
      "Title: Dave Mills has died(isoc.org)\n",
      "Link: https://elists.isoc.org/pipermail/internet-history/2024-January/009265.html\n",
      "Points: No points\n",
      "\n",
      "Title: Winding down Google Sync and Less Secure Apps support(googleblog.com)\n",
      "Link: https://workspaceupdates.googleblog.com/2023/09/winding-down-google-sync-and-less-secure-apps-support.html\n",
      "Points: No points\n",
      "\n",
      "Title: LoaderShip – CSS-Only Loaders(loadership.com)\n",
      "Link: https://www.loadership.com/\n",
      "Points: No points\n",
      "\n",
      "Title: Backing up the power grid with green methanol(ieee.org)\n",
      "Link: https://spectrum.ieee.org/methanol-energy-storage\n",
      "Points: No points\n",
      "\n",
      "Title: Live: Japan's first-ever soft lunar landing attempt with SLIM spacecraft [video](youtube.com)\n",
      "Link: https://www.youtube.com/watch?v=2-yBlZplnKQ\n",
      "Points: No points\n",
      "\n",
      "Title: The geometry of other people(aeon.co)\n",
      "Link: https://aeon.co/essays/why-do-other-people-form-imaginary-shapes-in-our-minds\n",
      "Points: No points\n",
      "\n",
      "Title: Nango (YC W23) Is Hiring Back End Engineers (Remote)(nango.dev)\n",
      "Link: https://nango.dev/jobs\n",
      "Points: No points\n",
      "\n",
      "Title: Cerne Abbas giant is Hercules and was army meeting point, say historians(theguardian.com)\n",
      "Link: https://www.theguardian.com/culture/2024/jan/01/cerne-abbas-giant-is-hercules-and-was-army-meeting-point-say-historians\n",
      "Points: No points\n",
      "\n",
      "Title: Driver hack lets you run Linux after Windows BSODs, no reboot required(tomshardware.com)\n",
      "Link: https://www.tomshardware.com/software/operating-systems/driver-hack-lets-you-run-linux-after-windows-bsods-no-reboot-required\n",
      "Points: No points\n",
      "\n",
      "Title: Hearing and Doing(planeandpilotmag.com)\n",
      "Link: https://www.planeandpilotmag.com/hearing-and-doing/\n",
      "Points: No points\n",
      "\n",
      "Title: Two Cicada Broods Emerge Together(weather.com)\n",
      "Link: https://weather.com/science/nature/video/two-cicada-broods-unite-for-first-time-in-221-years\n",
      "Points: No points\n",
      "\n",
      "Title: Orthic Shorthand – Write as fast as you type(shorthand.fun)\n",
      "Link: https://orthic.shorthand.fun/\n",
      "Points: No points\n",
      "\n",
      "Title: We migrated our PostgreSQL database with 11 seconds downtime(gds.blog.gov.uk)\n",
      "Link: https://gds.blog.gov.uk/2024/01/17/how-we-migrated-our-postgresql-database-with-11-seconds-downtime/\n",
      "Points: No points\n",
      "\n",
      "Title: A fuel cell that harvests energy from microbes living in dirt(northwestern.edu)\n",
      "Link: https://news.northwestern.edu/stories/2024/01/dirt-powered-fuel-cell-runs-forever/\n",
      "Points: No points\n",
      "\n",
      "Title: Random Animations(bleuje.com)\n",
      "Link: https://bleuje.com/randomanimations/\n",
      "Points: No points\n",
      "\n",
      "Title: Why holes at the bottom of the ocean disappear and reappear(atlasobscura.com)\n",
      "Link: https://www.atlasobscura.com/articles/ocean-floor-holes-purposes-eels\n",
      "Points: No points\n",
      "\n",
      "Title: What Is Scalability Anyway?(brooker.co.za)\n",
      "Link: https://brooker.co.za/blog/2024/01/18/scalability.html\n",
      "Points: No points\n",
      "\n",
      "Title: Mourning Google(tbray.org)\n",
      "Link: https://www.tbray.org/ongoing/When/202x/2024/01/15/Google-2024\n",
      "Points: No points\n",
      "\n",
      "Title: Lost Highway: The trials of trucking school(harpers.org)\n",
      "Link: https://harpers.org/archive/2024/02/lost-highway-emily-gogolak/\n",
      "Points: No points\n",
      "\n",
      "Title: Hooted from the Stage: review of two new books on Keats(lrb.co.uk)\n",
      "Link: https://www.lrb.co.uk/the-paper/v46/n02/susan-eilenberg/hooted-from-the-stage\n",
      "Points: No points\n",
      "\n",
      "Title: Four Magic Words(fortressofdoors.com)\n",
      "Link: https://www.fortressofdoors.com/four-magic-words/\n",
      "Points: No points\n",
      "\n",
      "Title: Japan attempts historic moon landing(semafor.com)\n",
      "Link: https://www.semafor.com/article/01/19/2024/japan-attempts-historic-moon-landing\n",
      "Points: No points\n",
      "\n",
      "Title: Relearning math as an adult(gmays.com)\n",
      "Link: https://gmays.com/how-im-relearning-math-as-an-adult/\n",
      "Points: No points\n",
      "\n",
      "Title: The quiet death of Ello's big dreams(waxy.org)\n",
      "Link: https://waxy.org/2024/01/the-quiet-death-of-ellos-big-dreams/\n",
      "Points: No points\n",
      "\n",
      "Title: What Explains the Fibonacci Sequence?(bigthink.com)\n",
      "Link: https://bigthink.com/starts-with-a-bang/what-explains-fibonacci-sequence/\n",
      "Points: No points\n",
      "\n",
      "Title: Show HN: Lightweight Productivity Tool(zlinky.com)\n",
      "Link: https://zlinky.com/\n",
      "Points: No points\n",
      "\n"
     ]
    }
   ],
   "source": [
    "# Extract information from each post\n",
    "conn = psycopg2.connect(\n",
    "    host=\"localhost\",\n",
    "    database=\"mydatabase\",\n",
    "    user=\"myuser\",\n",
    "    password=\"mysecretpassword\",\n",
    "    port=\"5432\"\n",
    ")\n",
    "cur = conn.cursor()\n",
    "\n",
    "for post in posts:\n",
    "    title_tag = post.find('span', class_='titleline')\n",
    "    if title_tag:\n",
    "        title = title_tag.get_text(strip=True)\n",
    "        link = title_tag.a['href']  # Get the href attribute of the <a> tag\n",
    "\n",
    "    score_tag = post.find('span', class_='score')\n",
    "    if score_tag:\n",
    "        points = score_tag.get_text(strip=True)\n",
    "    else:\n",
    "        points = 'No points'\n",
    "\n",
    "    print(f\"Title: {title}\\nLink: {link}\\nPoints: {points}\\n\")\n",
    "    sql = \"\"\"INSERT INTO my_table (title, link) VALUES (%s, %s);\"\"\"\n",
    "    data = (title, link)\n",
    "    cur.execute(sql, data)\n",
    "    conn.commit()\n",
    "cur.close()\n",
    "conn.close()"
   ]
  },
  {
   "cell_type": "code",
   "execution_count": 28,
   "id": "636becce-5a22-4562-a8bc-0bc7b75a33e0",
   "metadata": {},
   "outputs": [
    {
     "name": "stdout",
     "output_type": "stream",
     "text": [
      "('value1', 'value2')\n",
      "('value1', 'value2')\n",
      "('value1', 'value2')\n",
      "('value1', 'value2')\n",
      "('value1', 'value2')\n",
      "('value1', 'value2')\n",
      "('value1', 'value2')\n",
      "('value1', 'value2')\n",
      "('value1', 'value2')\n",
      "('value1', 'value2')\n",
      "('value1', 'value2')\n",
      "('value1', 'value2')\n",
      "('value1', 'value2')\n",
      "('value1', 'value2')\n",
      "('value1', 'value2')\n",
      "('value1', 'value2')\n",
      "('value1', 'value2')\n",
      "('value1', 'value2')\n",
      "('value1', 'value2')\n",
      "('value1', 'value2')\n",
      "('value1', 'value2')\n",
      "('value1', 'value2')\n",
      "('value1', 'value2')\n",
      "('value1', 'value2')\n",
      "('value1', 'value2')\n",
      "('value1', 'value2')\n",
      "('value1', 'value2')\n",
      "('value1', 'value2')\n",
      "('value1', 'value2')\n",
      "('value1', 'value2')\n",
      "('value1', 'value2')\n",
      "('Building a USB SNES Controller(chybby.com)', 'https://blog.chybby.com/posts/building-a-usb-snes-controller')\n",
      "('Silos are fine, as long as there is an API between them(fernandovillalba.substack.com)', 'https://fernandovillalba.substack.com/p/devops-dont-destroy-silos-transform')\n",
      "(\"Comparing the 1970's Cray-1 supercomputer against the Raspberry Pi(adafruit.com)\", 'https://blog.adafruit.com/2024/01/17/comparing-the-1970s-cray-1-supercomputer-against-the-raspberry-pi-single-board-computer-range-raspberrypi-hacksterio/')\n",
      "('Researchers Claim First Functioning Graphene-Based Chip(ieee.org)', 'https://spectrum.ieee.org/graphene-semiconductor')\n",
      "('Dave Mills has died(isoc.org)', 'https://elists.isoc.org/pipermail/internet-history/2024-January/009265.html')\n",
      "('Winding down Google Sync and Less Secure Apps support(googleblog.com)', 'https://workspaceupdates.googleblog.com/2023/09/winding-down-google-sync-and-less-secure-apps-support.html')\n",
      "('LoaderShip – CSS-Only Loaders(loadership.com)', 'https://www.loadership.com/')\n",
      "('Backing up the power grid with green methanol(ieee.org)', 'https://spectrum.ieee.org/methanol-energy-storage')\n",
      "(\"Live: Japan's first-ever soft lunar landing attempt with SLIM spacecraft [video](youtube.com)\", 'https://www.youtube.com/watch?v=2-yBlZplnKQ')\n",
      "('The geometry of other people(aeon.co)', 'https://aeon.co/essays/why-do-other-people-form-imaginary-shapes-in-our-minds')\n",
      "('Nango (YC W23) Is Hiring Back End Engineers (Remote)(nango.dev)', 'https://nango.dev/jobs')\n",
      "('Cerne Abbas giant is Hercules and was army meeting point, say historians(theguardian.com)', 'https://www.theguardian.com/culture/2024/jan/01/cerne-abbas-giant-is-hercules-and-was-army-meeting-point-say-historians')\n",
      "('Driver hack lets you run Linux after Windows BSODs, no reboot required(tomshardware.com)', 'https://www.tomshardware.com/software/operating-systems/driver-hack-lets-you-run-linux-after-windows-bsods-no-reboot-required')\n",
      "('Hearing and Doing(planeandpilotmag.com)', 'https://www.planeandpilotmag.com/hearing-and-doing/')\n",
      "('Two Cicada Broods Emerge Together(weather.com)', 'https://weather.com/science/nature/video/two-cicada-broods-unite-for-first-time-in-221-years')\n",
      "('Orthic Shorthand – Write as fast as you type(shorthand.fun)', 'https://orthic.shorthand.fun/')\n",
      "('We migrated our PostgreSQL database with 11 seconds downtime(gds.blog.gov.uk)', 'https://gds.blog.gov.uk/2024/01/17/how-we-migrated-our-postgresql-database-with-11-seconds-downtime/')\n",
      "('A fuel cell that harvests energy from microbes living in dirt(northwestern.edu)', 'https://news.northwestern.edu/stories/2024/01/dirt-powered-fuel-cell-runs-forever/')\n",
      "('Random Animations(bleuje.com)', 'https://bleuje.com/randomanimations/')\n",
      "('Why holes at the bottom of the ocean disappear and reappear(atlasobscura.com)', 'https://www.atlasobscura.com/articles/ocean-floor-holes-purposes-eels')\n",
      "('What Is Scalability Anyway?(brooker.co.za)', 'https://brooker.co.za/blog/2024/01/18/scalability.html')\n",
      "('Mourning Google(tbray.org)', 'https://www.tbray.org/ongoing/When/202x/2024/01/15/Google-2024')\n",
      "('Lost Highway: The trials of trucking school(harpers.org)', 'https://harpers.org/archive/2024/02/lost-highway-emily-gogolak/')\n",
      "('Hooted from the Stage: review of two new books on Keats(lrb.co.uk)', 'https://www.lrb.co.uk/the-paper/v46/n02/susan-eilenberg/hooted-from-the-stage')\n",
      "('Four Magic Words(fortressofdoors.com)', 'https://www.fortressofdoors.com/four-magic-words/')\n",
      "('Japan attempts historic moon landing(semafor.com)', 'https://www.semafor.com/article/01/19/2024/japan-attempts-historic-moon-landing')\n",
      "('Relearning math as an adult(gmays.com)', 'https://gmays.com/how-im-relearning-math-as-an-adult/')\n",
      "(\"The quiet death of Ello's big dreams(waxy.org)\", 'https://waxy.org/2024/01/the-quiet-death-of-ellos-big-dreams/')\n",
      "('What Explains the Fibonacci Sequence?(bigthink.com)', 'https://bigthink.com/starts-with-a-bang/what-explains-fibonacci-sequence/')\n",
      "('Show HN: Lightweight Productivity Tool(zlinky.com)', 'https://zlinky.com/')\n"
     ]
    }
   ],
   "source": [
    "conn = psycopg2.connect(\n",
    "    host=\"localhost\",\n",
    "    database=\"mydatabase\",\n",
    "    user=\"myuser\",\n",
    "    password=\"mysecretpassword\",\n",
    "    port=\"5432\"\n",
    ")\n",
    "cur = conn.cursor()\n",
    "\n",
    "n = 10  # Replace with the number of rows you want to retrieve\n",
    "table_name = \"my_table\"  # Replace with your specific table name\n",
    "\n",
    "sql_query = f\"SELECT * FROM {table_name} LIMIT %s\"\n",
    "cur.execute(sql_query, (100,))\n",
    "\n",
    "rows = cur.fetchall()\n",
    "for row in rows:\n",
    "    print(row)\n"
   ]
  },
  {
   "cell_type": "markdown",
   "id": "7562bbde-7cac-40bf-965d-59a41c5390c4",
   "metadata": {},
   "source": [
    "# Prefect"
   ]
  },
  {
   "cell_type": "code",
   "execution_count": 32,
   "id": "a7ec4966-9645-4274-9894-c5ec358f5084",
   "metadata": {},
   "outputs": [
    {
     "name": "stderr",
     "output_type": "stream",
     "text": [
      "/Users/shaheen.ahmed-chowd/opt/anaconda3/envs/mlx_scraping_workshop_19_jan_24/lib/python3.11/site-packages/prefect/tasks.py:337: UserWarning: A task named 'fetch_webpage' and defined at '/var/folders/3x/5dckcsnn3p9g8r_3y88ws4q4gmnnk9/T/ipykernel_99366/3781581605.py:6' conflicts with another task. Consider specifying a unique `name` parameter in the task definition:\n",
      "\n",
      " `@task(name='my_unique_name', ...)`\n",
      "  warnings.warn(\n",
      "/Users/shaheen.ahmed-chowd/opt/anaconda3/envs/mlx_scraping_workshop_19_jan_24/lib/python3.11/site-packages/prefect/tasks.py:337: UserWarning: A task named 'parse_html' and defined at '/var/folders/3x/5dckcsnn3p9g8r_3y88ws4q4gmnnk9/T/ipykernel_99366/3781581605.py:14' conflicts with another task. Consider specifying a unique `name` parameter in the task definition:\n",
      "\n",
      " `@task(name='my_unique_name', ...)`\n",
      "  warnings.warn(\n",
      "/Users/shaheen.ahmed-chowd/opt/anaconda3/envs/mlx_scraping_workshop_19_jan_24/lib/python3.11/site-packages/prefect/tasks.py:337: UserWarning: A task named 'extract_post_info' and defined at '/var/folders/3x/5dckcsnn3p9g8r_3y88ws4q4gmnnk9/T/ipykernel_99366/3781581605.py:19' conflicts with another task. Consider specifying a unique `name` parameter in the task definition:\n",
      "\n",
      " `@task(name='my_unique_name', ...)`\n",
      "  warnings.warn(\n",
      "/Users/shaheen.ahmed-chowd/opt/anaconda3/envs/mlx_scraping_workshop_19_jan_24/lib/python3.11/site-packages/prefect/tasks.py:337: UserWarning: A task named 'insert_into_db' and defined at '/var/folders/3x/5dckcsnn3p9g8r_3y88ws4q4gmnnk9/T/ipykernel_99366/3781581605.py:30' conflicts with another task. Consider specifying a unique `name` parameter in the task definition:\n",
      "\n",
      " `@task(name='my_unique_name', ...)`\n",
      "  warnings.warn(\n",
      "/Users/shaheen.ahmed-chowd/opt/anaconda3/envs/mlx_scraping_workshop_19_jan_24/lib/python3.11/site-packages/prefect/flows.py:338: UserWarning: A flow named 'HN_Scraper' and defined at '/var/folders/3x/5dckcsnn3p9g8r_3y88ws4q4gmnnk9/T/ipykernel_99366/3781581605.py:49' conflicts with another flow. Consider specifying a unique `name` parameter in the flow definition:\n",
      "\n",
      " `@flow(name='my_unique_name', ...)`\n",
      "  warnings.warn(\n"
     ]
    },
    {
     "data": {
      "text/html": [
       "<pre style=\"white-space:pre;overflow-x:auto;line-height:normal;font-family:Menlo,'DejaVu Sans Mono',consolas,'Courier New',monospace\">17:28:49.442 | <span style=\"color: #008080; text-decoration-color: #008080\">INFO</span>    | prefect.engine - Created flow run<span style=\"color: #800080; text-decoration-color: #800080\"> 'amusing-narwhal'</span> for flow<span style=\"color: #800080; text-decoration-color: #800080; font-weight: bold\"> 'HN_Scraper'</span>\n",
       "</pre>\n"
      ],
      "text/plain": [
       "17:28:49.442 | \u001b[36mINFO\u001b[0m    | prefect.engine - Created flow run\u001b[35m 'amusing-narwhal'\u001b[0m for flow\u001b[1;35m 'HN_Scraper'\u001b[0m\n"
      ]
     },
     "metadata": {},
     "output_type": "display_data"
    },
    {
     "data": {
      "text/html": [
       "<pre style=\"white-space:pre;overflow-x:auto;line-height:normal;font-family:Menlo,'DejaVu Sans Mono',consolas,'Courier New',monospace\">17:28:49.512 | <span style=\"color: #008080; text-decoration-color: #008080\">INFO</span>    | Flow run<span style=\"color: #800080; text-decoration-color: #800080\"> 'amusing-narwhal'</span> - Created task run 'fetch_webpage-0' for task 'fetch_webpage'\n",
       "</pre>\n"
      ],
      "text/plain": [
       "17:28:49.512 | \u001b[36mINFO\u001b[0m    | Flow run\u001b[35m 'amusing-narwhal'\u001b[0m - Created task run 'fetch_webpage-0' for task 'fetch_webpage'\n"
      ]
     },
     "metadata": {},
     "output_type": "display_data"
    },
    {
     "data": {
      "text/html": [
       "<pre style=\"white-space:pre;overflow-x:auto;line-height:normal;font-family:Menlo,'DejaVu Sans Mono',consolas,'Courier New',monospace\">17:28:49.513 | <span style=\"color: #008080; text-decoration-color: #008080\">INFO</span>    | Flow run<span style=\"color: #800080; text-decoration-color: #800080\"> 'amusing-narwhal'</span> - Executing 'fetch_webpage-0' immediately...\n",
       "</pre>\n"
      ],
      "text/plain": [
       "17:28:49.513 | \u001b[36mINFO\u001b[0m    | Flow run\u001b[35m 'amusing-narwhal'\u001b[0m - Executing 'fetch_webpage-0' immediately...\n"
      ]
     },
     "metadata": {},
     "output_type": "display_data"
    },
    {
     "data": {
      "text/html": [
       "<pre style=\"white-space:pre;overflow-x:auto;line-height:normal;font-family:Menlo,'DejaVu Sans Mono',consolas,'Courier New',monospace\">17:28:50.492 | <span style=\"color: #008080; text-decoration-color: #008080\">INFO</span>    | Task run 'fetch_webpage-0' - Finished in state <span style=\"color: #008000; text-decoration-color: #008000\">Completed</span>()\n",
       "</pre>\n"
      ],
      "text/plain": [
       "17:28:50.492 | \u001b[36mINFO\u001b[0m    | Task run 'fetch_webpage-0' - Finished in state \u001b[32mCompleted\u001b[0m()\n"
      ]
     },
     "metadata": {},
     "output_type": "display_data"
    },
    {
     "data": {
      "text/html": [
       "<pre style=\"white-space:pre;overflow-x:auto;line-height:normal;font-family:Menlo,'DejaVu Sans Mono',consolas,'Courier New',monospace\">17:28:50.542 | <span style=\"color: #008080; text-decoration-color: #008080\">INFO</span>    | Flow run<span style=\"color: #800080; text-decoration-color: #800080\"> 'amusing-narwhal'</span> - Created task run 'parse_html-0' for task 'parse_html'\n",
       "</pre>\n"
      ],
      "text/plain": [
       "17:28:50.542 | \u001b[36mINFO\u001b[0m    | Flow run\u001b[35m 'amusing-narwhal'\u001b[0m - Created task run 'parse_html-0' for task 'parse_html'\n"
      ]
     },
     "metadata": {},
     "output_type": "display_data"
    },
    {
     "data": {
      "text/html": [
       "<pre style=\"white-space:pre;overflow-x:auto;line-height:normal;font-family:Menlo,'DejaVu Sans Mono',consolas,'Courier New',monospace\">17:28:50.544 | <span style=\"color: #008080; text-decoration-color: #008080\">INFO</span>    | Flow run<span style=\"color: #800080; text-decoration-color: #800080\"> 'amusing-narwhal'</span> - Executing 'parse_html-0' immediately...\n",
       "</pre>\n"
      ],
      "text/plain": [
       "17:28:50.544 | \u001b[36mINFO\u001b[0m    | Flow run\u001b[35m 'amusing-narwhal'\u001b[0m - Executing 'parse_html-0' immediately...\n"
      ]
     },
     "metadata": {},
     "output_type": "display_data"
    },
    {
     "data": {
      "text/html": [
       "<pre style=\"white-space:pre;overflow-x:auto;line-height:normal;font-family:Menlo,'DejaVu Sans Mono',consolas,'Courier New',monospace\">17:28:50.671 | <span style=\"color: #008080; text-decoration-color: #008080\">INFO</span>    | Task run 'parse_html-0' - Finished in state <span style=\"color: #008000; text-decoration-color: #008000\">Completed</span>()\n",
       "</pre>\n"
      ],
      "text/plain": [
       "17:28:50.671 | \u001b[36mINFO\u001b[0m    | Task run 'parse_html-0' - Finished in state \u001b[32mCompleted\u001b[0m()\n"
      ]
     },
     "metadata": {},
     "output_type": "display_data"
    },
    {
     "data": {
      "text/html": [
       "<pre style=\"white-space:pre;overflow-x:auto;line-height:normal;font-family:Menlo,'DejaVu Sans Mono',consolas,'Courier New',monospace\">17:28:50.975 | <span style=\"color: #008080; text-decoration-color: #008080\">INFO</span>    | Flow run<span style=\"color: #800080; text-decoration-color: #800080\"> 'amusing-narwhal'</span> - Created task run 'extract_post_info-0' for task 'extract_post_info'\n",
       "</pre>\n"
      ],
      "text/plain": [
       "17:28:50.975 | \u001b[36mINFO\u001b[0m    | Flow run\u001b[35m 'amusing-narwhal'\u001b[0m - Created task run 'extract_post_info-0' for task 'extract_post_info'\n"
      ]
     },
     "metadata": {},
     "output_type": "display_data"
    },
    {
     "data": {
      "text/html": [
       "<pre style=\"white-space:pre;overflow-x:auto;line-height:normal;font-family:Menlo,'DejaVu Sans Mono',consolas,'Courier New',monospace\">17:28:50.977 | <span style=\"color: #008080; text-decoration-color: #008080\">INFO</span>    | Flow run<span style=\"color: #800080; text-decoration-color: #800080\"> 'amusing-narwhal'</span> - Executing 'extract_post_info-0' immediately...\n",
       "</pre>\n"
      ],
      "text/plain": [
       "17:28:50.977 | \u001b[36mINFO\u001b[0m    | Flow run\u001b[35m 'amusing-narwhal'\u001b[0m - Executing 'extract_post_info-0' immediately...\n"
      ]
     },
     "metadata": {},
     "output_type": "display_data"
    },
    {
     "data": {
      "text/html": [
       "<pre style=\"white-space:pre;overflow-x:auto;line-height:normal;font-family:Menlo,'DejaVu Sans Mono',consolas,'Courier New',monospace\">17:28:51.057 | <span style=\"color: #008080; text-decoration-color: #008080\">INFO</span>    | Task run 'extract_post_info-0' - Finished in state <span style=\"color: #008000; text-decoration-color: #008000\">Completed</span>()\n",
       "</pre>\n"
      ],
      "text/plain": [
       "17:28:51.057 | \u001b[36mINFO\u001b[0m    | Task run 'extract_post_info-0' - Finished in state \u001b[32mCompleted\u001b[0m()\n"
      ]
     },
     "metadata": {},
     "output_type": "display_data"
    },
    {
     "data": {
      "text/html": [
       "<pre style=\"white-space:pre;overflow-x:auto;line-height:normal;font-family:Menlo,'DejaVu Sans Mono',consolas,'Courier New',monospace\">17:28:51.085 | <span style=\"color: #008080; text-decoration-color: #008080\">INFO</span>    | Flow run<span style=\"color: #800080; text-decoration-color: #800080\"> 'amusing-narwhal'</span> - Created task run 'insert_into_db-0' for task 'insert_into_db'\n",
       "</pre>\n"
      ],
      "text/plain": [
       "17:28:51.085 | \u001b[36mINFO\u001b[0m    | Flow run\u001b[35m 'amusing-narwhal'\u001b[0m - Created task run 'insert_into_db-0' for task 'insert_into_db'\n"
      ]
     },
     "metadata": {},
     "output_type": "display_data"
    },
    {
     "data": {
      "text/html": [
       "<pre style=\"white-space:pre;overflow-x:auto;line-height:normal;font-family:Menlo,'DejaVu Sans Mono',consolas,'Courier New',monospace\">17:28:51.086 | <span style=\"color: #008080; text-decoration-color: #008080\">INFO</span>    | Flow run<span style=\"color: #800080; text-decoration-color: #800080\"> 'amusing-narwhal'</span> - Executing 'insert_into_db-0' immediately...\n",
       "</pre>\n"
      ],
      "text/plain": [
       "17:28:51.086 | \u001b[36mINFO\u001b[0m    | Flow run\u001b[35m 'amusing-narwhal'\u001b[0m - Executing 'insert_into_db-0' immediately...\n"
      ]
     },
     "metadata": {},
     "output_type": "display_data"
    },
    {
     "data": {
      "text/html": [
       "<pre style=\"white-space:pre;overflow-x:auto;line-height:normal;font-family:Menlo,'DejaVu Sans Mono',consolas,'Courier New',monospace\">17:28:51.307 | <span style=\"color: #008080; text-decoration-color: #008080\">INFO</span>    | Task run 'insert_into_db-0' - Finished in state <span style=\"color: #008000; text-decoration-color: #008000\">Completed</span>()\n",
       "</pre>\n"
      ],
      "text/plain": [
       "17:28:51.307 | \u001b[36mINFO\u001b[0m    | Task run 'insert_into_db-0' - Finished in state \u001b[32mCompleted\u001b[0m()\n"
      ]
     },
     "metadata": {},
     "output_type": "display_data"
    },
    {
     "data": {
      "text/html": [
       "<pre style=\"white-space:pre;overflow-x:auto;line-height:normal;font-family:Menlo,'DejaVu Sans Mono',consolas,'Courier New',monospace\">17:28:51.341 | <span style=\"color: #008080; text-decoration-color: #008080\">INFO</span>    | Flow run<span style=\"color: #800080; text-decoration-color: #800080\"> 'amusing-narwhal'</span> - Finished in state <span style=\"color: #008000; text-decoration-color: #008000\">Completed</span>('All states completed.')\n",
       "</pre>\n"
      ],
      "text/plain": [
       "17:28:51.341 | \u001b[36mINFO\u001b[0m    | Flow run\u001b[35m 'amusing-narwhal'\u001b[0m - Finished in state \u001b[32mCompleted\u001b[0m('All states completed.')\n"
      ]
     },
     "metadata": {},
     "output_type": "display_data"
    },
    {
     "data": {
      "text/plain": [
       "[Completed(message=None, type=COMPLETED, result=UnpersistedResult(type='unpersisted', artifact_type='result', artifact_description='Unpersisted result of type `bytes`')),\n",
       " Completed(message=None, type=COMPLETED, result=UnpersistedResult(type='unpersisted', artifact_type='result', artifact_description='Unpersisted result of type `ResultSet`')),\n",
       " Completed(message=None, type=COMPLETED, result=UnpersistedResult(type='unpersisted', artifact_type='result', artifact_description='Unpersisted result of type `list`')),\n",
       " Completed(message=None, type=COMPLETED, result=UnpersistedResult(type='unpersisted', artifact_type='result', artifact_description='Unpersisted result of type `NoneType`'))]"
      ]
     },
     "execution_count": 32,
     "metadata": {},
     "output_type": "execute_result"
    }
   ],
   "source": [
    "from prefect import task, flow\n",
    "import requests\n",
    "from bs4 import BeautifulSoup\n",
    "import psycopg2\n",
    "\n",
    "@task\n",
    "def fetch_webpage(url):\n",
    "    response = requests.get(url)\n",
    "    if response.status_code == 200:\n",
    "        return response.content\n",
    "    else:\n",
    "        raise Exception(f\"Failed to retrieve page {url}\")\n",
    "\n",
    "@task\n",
    "def parse_html(html_content):\n",
    "    soup = BeautifulSoup(html_content, 'html.parser')\n",
    "    return soup.find_all('tr', class_='athing')\n",
    "\n",
    "@task\n",
    "def extract_post_info(posts):\n",
    "    data = []\n",
    "    for post in posts:\n",
    "        title_tag = post.find('span', class_='titleline')\n",
    "        if title_tag:\n",
    "            title = title_tag.get_text(strip=True)\n",
    "            link = title_tag.a['href']\n",
    "            data.append((title, link))\n",
    "    return data\n",
    "\n",
    "@task\n",
    "def insert_into_db(data):\n",
    "    conn = psycopg2.connect(\n",
    "        host=\"localhost\",\n",
    "        database=\"mydatabase\",\n",
    "        user=\"myuser\",\n",
    "        password=\"mysecretpassword\",\n",
    "        port=\"5432\"\n",
    "    )\n",
    "    cur = conn.cursor()\n",
    "\n",
    "    for title, link in data:\n",
    "        sql = \"\"\"INSERT INTO my_table (title, link) VALUES (%s, %s);\"\"\"\n",
    "        cur.execute(sql, (title, link))\n",
    "        conn.commit()\n",
    "\n",
    "    cur.close()\n",
    "    conn.close()\n",
    "\n",
    "@flow(name=\"HN_Scraper\")\n",
    "def hn_scraper_flow():\n",
    "    base_url = \"https://news.ycombinator.com/\"\n",
    "    html_content = fetch_webpage(base_url)\n",
    "    posts = parse_html(html_content)\n",
    "    post_data = extract_post_info(posts)\n",
    "    insert_into_db(post_data)\n",
    "\n",
    "# Run the flow\n",
    "hn_scraper_flow()\n"
   ]
  },
  {
   "cell_type": "code",
   "execution_count": 30,
   "id": "12dc46ad-2ef2-4d95-a3d9-6fcd816cdf80",
   "metadata": {},
   "outputs": [
    {
     "ename": "TypeError",
     "evalue": "'fn' must be callable",
     "output_type": "error",
     "traceback": [
      "\u001b[0;31m---------------------------------------------------------------------------\u001b[0m",
      "\u001b[0;31mTypeError\u001b[0m                                 Traceback (most recent call last)",
      "Cell \u001b[0;32mIn[30], line 1\u001b[0m\n\u001b[0;32m----> 1\u001b[0m \u001b[38;5;28;01mwith\u001b[39;00m Flow(\u001b[38;5;124m\"\u001b[39m\u001b[38;5;124mHN_Scraper\u001b[39m\u001b[38;5;124m\"\u001b[39m) \u001b[38;5;28;01mas\u001b[39;00m flow:\n\u001b[1;32m      2\u001b[0m     base_url \u001b[38;5;241m=\u001b[39m \u001b[38;5;124m\"\u001b[39m\u001b[38;5;124mhttps://news.ycombinator.com/\u001b[39m\u001b[38;5;124m\"\u001b[39m\n\u001b[1;32m      3\u001b[0m     html_content \u001b[38;5;241m=\u001b[39m fetch_webpage(base_url)\n",
      "File \u001b[0;32m~/opt/anaconda3/envs/mlx_scraping_workshop_19_jan_24/lib/python3.11/site-packages/prefect/context.py:186\u001b[0m, in \u001b[0;36mPrefectObjectRegistry.register_instances.<locals>.__register_init__\u001b[0;34m(__self__, *args, **kwargs)\u001b[0m\n\u001b[1;32m    184\u001b[0m registry \u001b[38;5;241m=\u001b[39m \u001b[38;5;28mcls\u001b[39m\u001b[38;5;241m.\u001b[39mget()\n\u001b[1;32m    185\u001b[0m \u001b[38;5;28;01mtry\u001b[39;00m:\n\u001b[0;32m--> 186\u001b[0m     original_init(\u001b[38;5;18m__self__\u001b[39m, \u001b[38;5;241m*\u001b[39margs, \u001b[38;5;241m*\u001b[39m\u001b[38;5;241m*\u001b[39mkwargs)\n\u001b[1;32m    187\u001b[0m \u001b[38;5;28;01mexcept\u001b[39;00m \u001b[38;5;167;01mException\u001b[39;00m \u001b[38;5;28;01mas\u001b[39;00m exc:\n\u001b[1;32m    188\u001b[0m     \u001b[38;5;28;01mif\u001b[39;00m \u001b[38;5;129;01mnot\u001b[39;00m registry \u001b[38;5;129;01mor\u001b[39;00m \u001b[38;5;129;01mnot\u001b[39;00m registry\u001b[38;5;241m.\u001b[39mcapture_failures:\n",
      "File \u001b[0;32m~/opt/anaconda3/envs/mlx_scraping_workshop_19_jan_24/lib/python3.11/site-packages/prefect/flows.py:253\u001b[0m, in \u001b[0;36mFlow.__init__\u001b[0;34m(self, fn, name, version, flow_run_name, retries, retry_delay_seconds, task_runner, description, timeout_seconds, validate_parameters, persist_result, result_storage, result_serializer, cache_result_in_memory, log_prints, on_completion, on_failure, on_cancellation, on_crashed)\u001b[0m\n\u001b[1;32m    244\u001b[0m                 \u001b[38;5;28;01mraise\u001b[39;00m \u001b[38;5;167;01mTypeError\u001b[39;00m(\n\u001b[1;32m    245\u001b[0m                     \u001b[38;5;124mf\u001b[39m\u001b[38;5;124m\"\u001b[39m\u001b[38;5;124mExpected callables in \u001b[39m\u001b[38;5;124m'\u001b[39m\u001b[38;5;132;01m{\u001b[39;00mhook_name\u001b[38;5;132;01m}\u001b[39;00m\u001b[38;5;124m'\u001b[39m\u001b[38;5;124m; got\u001b[39m\u001b[38;5;124m\"\u001b[39m\n\u001b[1;32m    246\u001b[0m                     \u001b[38;5;124mf\u001b[39m\u001b[38;5;124m\"\u001b[39m\u001b[38;5;124m \u001b[39m\u001b[38;5;132;01m{\u001b[39;00m\u001b[38;5;28mtype\u001b[39m(hook)\u001b[38;5;241m.\u001b[39m\u001b[38;5;18m__name__\u001b[39m\u001b[38;5;132;01m}\u001b[39;00m\u001b[38;5;124m instead. Please provide a list of\u001b[39m\u001b[38;5;124m\"\u001b[39m\n\u001b[0;32m   (...)\u001b[0m\n\u001b[1;32m    249\u001b[0m                     \u001b[38;5;124m\"\u001b[39m\u001b[38;5;124m my_flow():\u001b[39m\u001b[38;5;130;01m\\n\u001b[39;00m\u001b[38;5;130;01m\\t\u001b[39;00m\u001b[38;5;124mpass\u001b[39m\u001b[38;5;124m\"\u001b[39m\n\u001b[1;32m    250\u001b[0m                 )\n\u001b[1;32m    252\u001b[0m \u001b[38;5;28;01mif\u001b[39;00m \u001b[38;5;129;01mnot\u001b[39;00m \u001b[38;5;28mcallable\u001b[39m(fn):\n\u001b[0;32m--> 253\u001b[0m     \u001b[38;5;28;01mraise\u001b[39;00m \u001b[38;5;167;01mTypeError\u001b[39;00m(\u001b[38;5;124m\"\u001b[39m\u001b[38;5;124m'\u001b[39m\u001b[38;5;124mfn\u001b[39m\u001b[38;5;124m'\u001b[39m\u001b[38;5;124m must be callable\u001b[39m\u001b[38;5;124m\"\u001b[39m)\n\u001b[1;32m    255\u001b[0m \u001b[38;5;66;03m# Validate name if given\u001b[39;00m\n\u001b[1;32m    256\u001b[0m \u001b[38;5;28;01mif\u001b[39;00m name:\n",
      "\u001b[0;31mTypeError\u001b[0m: 'fn' must be callable"
     ]
    }
   ],
   "source": []
  },
  {
   "cell_type": "markdown",
   "id": "18944252-2142-40bf-98ea-87c9dd1effc2",
   "metadata": {},
   "source": [
    "https://chat.openai.com/share/0a6b811e-7c88-4c1c-ba55-173cf93aa976"
   ]
  },
  {
   "cell_type": "code",
   "execution_count": null,
   "id": "7f4b5cdc-5829-41eb-b443-bcf5a9ae1475",
   "metadata": {},
   "outputs": [],
   "source": []
  }
 ],
 "metadata": {
  "kernelspec": {
   "display_name": "Python 3 (ipykernel)",
   "language": "python",
   "name": "python3"
  },
  "language_info": {
   "codemirror_mode": {
    "name": "ipython",
    "version": 3
   },
   "file_extension": ".py",
   "mimetype": "text/x-python",
   "name": "python",
   "nbconvert_exporter": "python",
   "pygments_lexer": "ipython3",
   "version": "3.11.0"
  }
 },
 "nbformat": 4,
 "nbformat_minor": 5
}

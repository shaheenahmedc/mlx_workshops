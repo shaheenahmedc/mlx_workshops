{
 "cells": [
  {
   "cell_type": "markdown",
   "id": "bde30248-44f4-44e9-9387-cb949fe3e41f",
   "metadata": {},
   "source": [
    "# Overview"
   ]
  },
  {
   "cell_type": "markdown",
   "id": "ac5cc136-5842-46ec-b789-56973adb0f42",
   "metadata": {},
   "source": [
    "This notebook runs through the week 1 task from the MLX apprenticeship, namely building a language prediction model, and deploying it via Gradio and Tmux. "
   ]
  },
  {
   "cell_type": "markdown",
   "id": "9a93f002-69d1-412f-8e90-86c507a70703",
   "metadata": {},
   "source": [
    "# Imports"
   ]
  },
  {
   "cell_type": "code",
   "execution_count": 1,
   "id": "26260f10-4209-4559-9fee-fb57e8533074",
   "metadata": {},
   "outputs": [],
   "source": [
    "import pandas as pd\n",
    "import torch"
   ]
  },
  {
   "cell_type": "markdown",
   "id": "12b3258b-47c5-40cd-a602-d9238174bfee",
   "metadata": {},
   "source": [
    "# Solution Structure"
   ]
  },
  {
   "cell_type": "markdown",
   "id": "5207eb84-7f5a-4efd-9c28-61db5ba39711",
   "metadata": {},
   "source": [
    "- [Proposed dataset](https://huggingface.co/datasets/iix/Parquet_FIles)\n",
    "- Prep and tokenize dataset for word2vec model\n",
    "- Create word2vec model\n",
    "- Train word2vec model to get embedding matrix\n",
    "- Prep and tokenize dataset for MLP classification model\n",
    "- Create MLP classification model\n",
    "- Train MLP classification model\n",
    "- Launch persistent app via uvicorn/screen/tmux"
   ]
  },
  {
   "cell_type": "markdown",
   "id": "be71949b-781e-457b-9313-ed498604b10e",
   "metadata": {},
   "source": [
    "# Prepare Dataset"
   ]
  },
  {
   "cell_type": "code",
   "execution_count": 2,
   "id": "9bd8a0a0-2219-4e2a-814e-106ed3b1e962",
   "metadata": {
    "scrolled": true
   },
   "outputs": [
    {
     "name": "stdout",
     "output_type": "stream",
     "text": [
      "--2024-02-02 15:37:04--  https://huggingface.co/datasets/iix/Parquet_FIles/resolve/main/Flores7Lang.parquet\n",
      "Resolving huggingface.co (huggingface.co)... 3.162.140.63, 3.162.140.75, 3.162.140.4, ...\n",
      "Connecting to huggingface.co (huggingface.co)|3.162.140.63|:443... connected.\n",
      "HTTP request sent, awaiting response... 302 Found\n",
      "Location: https://cdn-lfs.huggingface.co/repos/fc/9a/fc9a918f6fbc19623c4d012eb54560ce331bef7d7208a8ec162d38c5b4a37971/ef205c73926e8ca0f0cb29276761c4716790d1e15498b0da361063c5348f5e9d?response-content-disposition=attachment%3B+filename*%3DUTF-8%27%27Flores7Lang.parquet%3B+filename%3D%22Flores7Lang.parquet%22%3B&Expires=1707147424&Policy=eyJTdGF0ZW1lbnQiOlt7IkNvbmRpdGlvbiI6eyJEYXRlTGVzc1RoYW4iOnsiQVdTOkVwb2NoVGltZSI6MTcwNzE0NzQyNH19LCJSZXNvdXJjZSI6Imh0dHBzOi8vY2RuLWxmcy5odWdnaW5nZmFjZS5jby9yZXBvcy9mYy85YS9mYzlhOTE4ZjZmYmMxOTYyM2M0ZDAxMmViNTQ1NjBjZTMzMWJlZjdkNzIwOGE4ZWMxNjJkMzhjNWI0YTM3OTcxL2VmMjA1YzczOTI2ZThjYTBmMGNiMjkyNzY3NjFjNDcxNjc5MGQxZTE1NDk4YjBkYTM2MTA2M2M1MzQ4ZjVlOWQ%7EcmVzcG9uc2UtY29udGVudC1kaXNwb3NpdGlvbj0qIn1dfQ__&Signature=rC67Eu9BgslNd8M52DemSDUj9dpYqFRQ6yaC7Pv%7E%7Ec3QHPGdFrwBos5NbtKE-WT30%7EMNXk3haEalZfYkybkUcpxxEs2LIEGmypaXgHEmXWyBWWwoWEUp6rdOsXH7FobIIBV7L6c-SfGGrk-TcM606jJYpIAxg8PWXBUX3bHK3QswUQrDl5ttfDxGvVJQIPYwNst4hGZYaJm0lWWvx7M7ijmUozVGU0L7NCCfX19OOyOV34lBSrOOAZBbkC3tRu-qGvAOtfBNeNscLXBuEbXFyCDZwNJ8hjZj1TLveUJkrhfcQRZXb5768kQdLpomZNFbmQ0%7E7cELQ7sX3L0ugsCH-Q__&Key-Pair-Id=KVTP0A1DKRTAX [following]\n",
      "--2024-02-02 15:37:04--  https://cdn-lfs.huggingface.co/repos/fc/9a/fc9a918f6fbc19623c4d012eb54560ce331bef7d7208a8ec162d38c5b4a37971/ef205c73926e8ca0f0cb29276761c4716790d1e15498b0da361063c5348f5e9d?response-content-disposition=attachment%3B+filename*%3DUTF-8%27%27Flores7Lang.parquet%3B+filename%3D%22Flores7Lang.parquet%22%3B&Expires=1707147424&Policy=eyJTdGF0ZW1lbnQiOlt7IkNvbmRpdGlvbiI6eyJEYXRlTGVzc1RoYW4iOnsiQVdTOkVwb2NoVGltZSI6MTcwNzE0NzQyNH19LCJSZXNvdXJjZSI6Imh0dHBzOi8vY2RuLWxmcy5odWdnaW5nZmFjZS5jby9yZXBvcy9mYy85YS9mYzlhOTE4ZjZmYmMxOTYyM2M0ZDAxMmViNTQ1NjBjZTMzMWJlZjdkNzIwOGE4ZWMxNjJkMzhjNWI0YTM3OTcxL2VmMjA1YzczOTI2ZThjYTBmMGNiMjkyNzY3NjFjNDcxNjc5MGQxZTE1NDk4YjBkYTM2MTA2M2M1MzQ4ZjVlOWQ%7EcmVzcG9uc2UtY29udGVudC1kaXNwb3NpdGlvbj0qIn1dfQ__&Signature=rC67Eu9BgslNd8M52DemSDUj9dpYqFRQ6yaC7Pv%7E%7Ec3QHPGdFrwBos5NbtKE-WT30%7EMNXk3haEalZfYkybkUcpxxEs2LIEGmypaXgHEmXWyBWWwoWEUp6rdOsXH7FobIIBV7L6c-SfGGrk-TcM606jJYpIAxg8PWXBUX3bHK3QswUQrDl5ttfDxGvVJQIPYwNst4hGZYaJm0lWWvx7M7ijmUozVGU0L7NCCfX19OOyOV34lBSrOOAZBbkC3tRu-qGvAOtfBNeNscLXBuEbXFyCDZwNJ8hjZj1TLveUJkrhfcQRZXb5768kQdLpomZNFbmQ0%7E7cELQ7sX3L0ugsCH-Q__&Key-Pair-Id=KVTP0A1DKRTAX\n",
      "Resolving cdn-lfs.huggingface.co (cdn-lfs.huggingface.co)... 3.162.140.97, 3.162.140.100, 3.162.140.104, ...\n",
      "Connecting to cdn-lfs.huggingface.co (cdn-lfs.huggingface.co)|3.162.140.97|:443... connected.\n",
      "HTTP request sent, awaiting response... 200 OK\n",
      "Length: 1397523 (1.3M) [binary/octet-stream]\n",
      "Saving to: ‘Flores7Lang.parquet’\n",
      "\n",
      "Flores7Lang.parquet 100%[===================>]   1.33M  4.28MB/s    in 0.3s    \n",
      "\n",
      "2024-02-02 15:37:05 (4.28 MB/s) - ‘Flores7Lang.parquet’ saved [1397523/1397523]\n",
      "\n"
     ]
    }
   ],
   "source": [
    "!wget https://huggingface.co/datasets/iix/Parquet_FIles/resolve/main/Flores7Lang.parquet -O Flores7Lang.parquet"
   ]
  },
  {
   "cell_type": "code",
   "execution_count": 3,
   "id": "503f97bc-0f20-40f0-9b18-a3959ae16eb3",
   "metadata": {},
   "outputs": [],
   "source": [
    "data = pd.read_parquet(\"Flores7Lang.parquet\")\n"
   ]
  },
  {
   "cell_type": "code",
   "execution_count": 4,
   "id": "88b792c9-9f21-44c9-b72d-0123a69daf09",
   "metadata": {},
   "outputs": [],
   "source": [
    "# Convert dataframe from wide to long format\n",
    "# Set value_vars to all columns, and no id_vars.\n",
    "# This creates a new row for every cell in the dataframe, labelled by the column name.\n",
    "data_long_format = data.melt(value_vars=data.columns)"
   ]
  },
  {
   "cell_type": "code",
   "execution_count": 5,
   "id": "8f6aaece-c691-43f0-a5db-6c3c7b8450c9",
   "metadata": {},
   "outputs": [],
   "source": [
    "# Dump all the translations into one unlabelled list\n",
    "# The W2V model doesn't need labelled data, that will come in the classification MLP\n",
    "w2v_corpus = data_long_format['value'].tolist()"
   ]
  },
  {
   "cell_type": "code",
   "execution_count": 6,
   "id": "2866c176-a8a0-406c-a19c-44c5b58fbcef",
   "metadata": {},
   "outputs": [],
   "source": [
    "# Initialise our W2V torch dataset class, with this corpus\n",
    "from lang_class_datasets import W2VData\n",
    "w2v_dataset = W2VData(w2v_corpus)"
   ]
  },
  {
   "cell_type": "code",
   "execution_count": 7,
   "id": "543987de-35ac-439f-a232-f5981ec72d49",
   "metadata": {},
   "outputs": [
    {
     "name": "stdout",
     "output_type": "stream",
     "text": [
      "word2vec:corpus[0] Am Montag haben die Wisenschaftler der Stanford University School of Medicine die Erfindung eines neuen Diagnosetools bekanntgegeben, mit dem Zellen nach ihrem Typ sortiert werden können: ein winziger, ausdruckbarer Chip, der für jeweils etwa einen US-Cent mit Standard-Tintenstrahldruckern hergestellt werden kann.\n",
      "\n",
      "word2vec:ds[0] (tensor([ 3825, 11213, 17031,    81]), tensor(1675))\n"
     ]
    }
   ],
   "source": [
    "# Examine some entries, to sanity check\n",
    "print(\"word2vec:corpus[0]\", w2v_corpus[0])\n",
    "print(\"word2vec:ds[0]\", w2v_dataset[0])"
   ]
  },
  {
   "cell_type": "markdown",
   "id": "50663b6d-2dcb-427b-9922-974f3a28a89a",
   "metadata": {},
   "source": [
    "# Store Offline Tokenised Vocab"
   ]
  },
  {
   "cell_type": "code",
   "execution_count": 8,
   "id": "67a4970b-1793-48d5-a73b-3b3ed0cee2dd",
   "metadata": {},
   "outputs": [
    {
     "name": "stdout",
     "output_type": "stream",
     "text": [
      "26679\n",
      "['manadas', 'vorsichtig', 'najbaro', 'connection', 'kullanılmıştır', 'gravità', 'sabbatico', 'costituzione', 'descarga', 'elleri']\n"
     ]
    }
   ],
   "source": [
    "from tokenizer import Tokenizer\n",
    "data = pd.read_parquet(\"./Flores7Lang.parquet\")\n",
    "long_format = data.melt(value_vars=data.columns)\n",
    "corpus = long_format[\"value\"].tolist()\n",
    "tknz = Tokenizer(corpus)\n",
    "tknz.save_vocab(\"./vocab.txt\")\n",
    "tknz.load_vocab(\"./vocab.txt\")\n",
    "print(len(tknz.vocab))\n",
    "print(tknz.vocab[90:100])\n"
   ]
  },
  {
   "cell_type": "markdown",
   "id": "88a94597-a884-491b-a6f2-bdf7f95e57a7",
   "metadata": {},
   "source": [
    "# Create DataLoader, CBOW Model, Loss Function and Optimizer"
   ]
  },
  {
   "cell_type": "code",
   "execution_count": 19,
   "id": "6e23798a-42b9-4dba-914c-67734819ccd9",
   "metadata": {},
   "outputs": [],
   "source": [
    "from model import CBOW\n",
    "w2v_dataloader = torch.utils.data.DataLoader(w2v_dataset, batch_size=1024, shuffle=True)\n",
    "# CBOW takes (vocab_size, embedding_dim) as inputs\n",
    "cbow = CBOW(len(w2v_dataset.tokenizer.vocab), 50)\n",
    "# Use negative log likelihood loss\n",
    "# In the CBOW task, we're examining the likelihood over the vocab set, in comparison to a ground truth (the missing word)\n",
    "# This is equivalent to a classification task. Guess the correct class amongst a set of classes\n",
    "# Hence, we use negative log likelihood\n",
    "loss_function = torch.nn.NLLLoss()\n",
    "optimizer = torch.optim.SGD(cbow.parameters(), lr=0.001)"
   ]
  },
  {
   "cell_type": "markdown",
   "id": "0ebdfd9c-7ac6-454f-be56-fc89656a4198",
   "metadata": {},
   "source": [
    "# Run Training Loop for W2V Model (Logging via Weights and Biases)"
   ]
  },
  {
   "cell_type": "markdown",
   "id": "009567a1-fd18-4ca7-b9eb-1070e12efb38",
   "metadata": {},
   "source": [
    "# Adapt to use MLFlow too"
   ]
  },
  {
   "cell_type": "code",
   "execution_count": 20,
   "id": "bd8805f4-6f3f-4573-a78e-0c1cedc7b151",
   "metadata": {},
   "outputs": [
    {
     "name": "stderr",
     "output_type": "stream",
     "text": [
      "2024/02/02 16:14:22 WARNING mlflow.system_metrics.system_metrics_monitor: Skip logging GPU metrics because creating `GPUMonitor` failed with error: `pynvml` is not installed, to log GPU metrics please run `pip install pynvml` to install it..\n",
      "2024/02/02 16:14:22 INFO mlflow.system_metrics.system_metrics_monitor: Started monitoring system metrics.\n",
      "2024/02/02 16:14:22 WARNING mlflow.utils.autologging_utils: You are using an unsupported version of pytorch. If you encounter errors during autologging, try upgrading / downgrading pytorch to a supported version, or try upgrading MLflow.\n",
      "Epoch 1/3: 100%|██████████████████████████████████████████████████████████████████████████| 205/205 [00:47<00:00,  4.30batch/s]\n"
     ]
    },
    {
     "name": "stdout",
     "output_type": "stream",
     "text": [
      "Epoch 1/10, Loss: 2221.4974603652954\n"
     ]
    },
    {
     "name": "stderr",
     "output_type": "stream",
     "text": [
      "Epoch 2/3: 100%|██████████████████████████████████████████████████████████████████████████| 205/205 [00:47<00:00,  4.34batch/s]\n"
     ]
    },
    {
     "name": "stdout",
     "output_type": "stream",
     "text": [
      "Epoch 2/10, Loss: 2220.161244392395\n"
     ]
    },
    {
     "name": "stderr",
     "output_type": "stream",
     "text": [
      "Epoch 3/3: 100%|██████████████████████████████████████████████████████████████████████████| 205/205 [00:45<00:00,  4.54batch/s]\n"
     ]
    },
    {
     "name": "stdout",
     "output_type": "stream",
     "text": [
      "Epoch 3/10, Loss: 2218.9234552383423\n"
     ]
    },
    {
     "name": "stderr",
     "output_type": "stream",
     "text": [
      "/Users/shaheen.ahmed-chowd/opt/anaconda3/envs/MLX_workshop_2_feb_mlflow/lib/python3.11/site-packages/_distutils_hack/__init__.py:18: UserWarning: Distutils was imported before Setuptools, but importing Setuptools also replaces the `distutils` module in `sys.modules`. This may lead to undesirable behaviors or errors. To avoid these issues, avoid using distutils directly, ensure that setuptools is installed in the traditional way (e.g. not an editable install), and/or make sure that setuptools is always imported before distutils.\n",
      "  warnings.warn(\n",
      "/Users/shaheen.ahmed-chowd/opt/anaconda3/envs/MLX_workshop_2_feb_mlflow/lib/python3.11/site-packages/_distutils_hack/__init__.py:33: UserWarning: Setuptools is replacing distutils.\n",
      "  warnings.warn(\"Setuptools is replacing distutils.\")\n",
      "2024/02/02 16:16:47 INFO mlflow.system_metrics.system_metrics_monitor: Stopping system metrics monitoring...\n",
      "2024/02/02 16:16:47 INFO mlflow.system_metrics.system_metrics_monitor: Successfully terminated system metrics monitoring!\n"
     ]
    },
    {
     "data": {
      "image/png": "[encoded data removed]",
      "text/plain": [
       "<Figure size 640x480 with 1 Axes>"
      ]
     },
     "metadata": {},
     "output_type": "display_data"
    }
   ],
   "source": [
    "import tqdm\n",
    "import mlflow\n",
    "import matplotlib.pyplot as plt\n",
    "# Setting tracking uri\n",
    "mlflow.set_tracking_uri('http://localhost:5000')\n",
    "\n",
    "\n",
    "# Setting the experiment\n",
    "mlflow.set_experiment('lang_classification_test')\n",
    "\n",
    "# Enabling System Metrics\n",
    "mlflow.enable_system_metrics_logging()\n",
    "\n",
    "# Start MLflow run\n",
    "with mlflow.start_run():\n",
    "    mlflow.pytorch.autolog()\n",
    "    n_epochs = 3\n",
    "    total_loss_hist = []\n",
    "    for epoch in range(n_epochs):\n",
    "        total_loss = 0\n",
    "        for context, target in tqdm.tqdm(w2v_dataloader, desc=f\"Epoch {epoch+1}/{n_epochs}\", unit=\"batch\"):\n",
    "            # We don't want to accumulate gradients over batches, so zero them at the start of each batch's training loop\n",
    "            optimizer.zero_grad()\n",
    "            # PyTorch calls .forward() automatically, when we pass data to it\n",
    "            log_probs = cbow(context)\n",
    "            # Pass ground truth (target) and model outputs (log_probs) to loss function\n",
    "            loss = loss_function(log_probs, target)\n",
    "            # Perform backprop step (calc gradients of loss function wrt model params)\n",
    "            loss.backward()\n",
    "            # Change the parameter weights, according to selected optimizer\n",
    "            optimizer.step()\n",
    "            # Add up loss for printing purposes\n",
    "            total_loss += loss.item()\n",
    "            mlflow.log_metric(\"loss\", loss)\n",
    "            mlflow.log_metric(\"total_loss\", total_loss)\n",
    "            mlflow.log_param('n_epochs', n_epochs)\n",
    "            mlflow.set_tag(\"run_type\", \"test\")\n",
    "        total_loss_hist.append(total_loss)\n",
    "        print(f\"Epoch {epoch+1}/{n_epochs}, Loss: {total_loss}\")\n",
    "        torch.save(cbow.state_dict(), f\"./cbow_epoch_{epoch+1}.pt\")\n",
    "    plt.plot(total_loss_hist)\n",
    "    plt.savefig('total_loss_history.png')\n",
    "    mlflow.log_artifact(\"total_loss_history.png\")\n",
    "    mlflow.pytorch.log_model(cbow, \"test_cbow_model\")\n",
    "\n",
    "\n"
   ]
  },
  {
   "cell_type": "code",
   "execution_count": 22,
   "id": "70b0d43a-4f07-442d-b850-6f223762848f",
   "metadata": {},
   "outputs": [
    {
     "name": "stderr",
     "output_type": "stream",
     "text": [
      "Registered model 'test_lang_classification_model' already exists. Creating a new version of this model...\n",
      "2024/02/02 16:21:55 INFO mlflow.store.model_registry.abstract_store: Waiting up to 300 seconds for model version to finish creation. Model name: test_lang_classification_model, version 1\n",
      "Created version '1' of model 'test_lang_classification_model'.\n"
     ]
    }
   ],
   "source": [
    "result = mlflow.register_model(\n",
    "    \"runs:/32f94ebc42b44a0e973f59f66c66d72e/model\",\n",
    "    \"test_lang_classification_model\"\n",
    ")"
   ]
  },
  {
   "cell_type": "code",
   "execution_count": 24,
   "id": "0b306c5a-b11c-4e21-8794-8cf7fa79c443",
   "metadata": {},
   "outputs": [
    {
     "data": {
      "application/vnd.jupyter.widget-view+json": {
       "model_id": "7be947215cba4f04be828f3e6d00b3bd",
       "version_major": 2,
       "version_minor": 0
      },
      "text/plain": [
       "Downloading artifacts:   0%|          | 0/1 [00:00<?, ?it/s]"
      ]
     },
     "metadata": {},
     "output_type": "display_data"
    },
    {
     "ename": "MlflowException",
     "evalue": "The following failures occurred while downloading one or more artifacts from http://localhost:5000/api/2.0/mlflow-artifacts/artifacts/912598759279177923/32f94ebc42b44a0e973f59f66c66d72e/artifacts/model:\n##### File  #####\nAPI request to http://localhost:5000/api/2.0/mlflow-artifacts/artifacts/912598759279177923/32f94ebc42b44a0e973f59f66c66d72e/artifacts/model/ failed with exception HTTPConnectionPool(host='localhost', port=5000): Max retries exceeded with url: /api/2.0/mlflow-artifacts/artifacts/912598759279177923/32f94ebc42b44a0e973f59f66c66d72e/artifacts/model/ (Caused by ResponseError('too many 500 error responses'))",
     "output_type": "error",
     "traceback": [
      "\u001b[0;31m---------------------------------------------------------------------------\u001b[0m",
      "\u001b[0;31mMlflowException\u001b[0m                           Traceback (most recent call last)",
      "Cell \u001b[0;32mIn[24], line 2\u001b[0m\n\u001b[1;32m      1\u001b[0m model_uri \u001b[38;5;241m=\u001b[39m \u001b[38;5;124m\"\u001b[39m\u001b[38;5;124mmodels:/test_lang_classification_model/1\u001b[39m\u001b[38;5;124m\"\u001b[39m\n\u001b[0;32m----> 2\u001b[0m model_from_mlflow \u001b[38;5;241m=\u001b[39m \u001b[43mmlflow\u001b[49m\u001b[38;5;241;43m.\u001b[39;49m\u001b[43mpyfunc\u001b[49m\u001b[38;5;241;43m.\u001b[39;49m\u001b[43mload_model\u001b[49m\u001b[43m(\u001b[49m\u001b[43mmodel_uri\u001b[49m\u001b[43m)\u001b[49m\n",
      "File \u001b[0;32m~/opt/anaconda3/envs/MLX_workshop_2_feb_mlflow/lib/python3.11/site-packages/mlflow/pyfunc/__init__.py:634\u001b[0m, in \u001b[0;36mload_model\u001b[0;34m(model_uri, suppress_warnings, dst_path, model_config)\u001b[0m\n\u001b[1;32m    600\u001b[0m \u001b[38;5;28;01mdef\u001b[39;00m \u001b[38;5;21mload_model\u001b[39m(\n\u001b[1;32m    601\u001b[0m     model_uri: \u001b[38;5;28mstr\u001b[39m,\n\u001b[1;32m    602\u001b[0m     suppress_warnings: \u001b[38;5;28mbool\u001b[39m \u001b[38;5;241m=\u001b[39m \u001b[38;5;28;01mFalse\u001b[39;00m,\n\u001b[1;32m    603\u001b[0m     dst_path: Optional[\u001b[38;5;28mstr\u001b[39m] \u001b[38;5;241m=\u001b[39m \u001b[38;5;28;01mNone\u001b[39;00m,\n\u001b[1;32m    604\u001b[0m     model_config: Optional[Dict[\u001b[38;5;28mstr\u001b[39m, Any]] \u001b[38;5;241m=\u001b[39m \u001b[38;5;28;01mNone\u001b[39;00m,\n\u001b[1;32m    605\u001b[0m ) \u001b[38;5;241m-\u001b[39m\u001b[38;5;241m>\u001b[39m PyFuncModel:\n\u001b[1;32m    606\u001b[0m \u001b[38;5;250m    \u001b[39m\u001b[38;5;124;03m\"\"\"\u001b[39;00m\n\u001b[1;32m    607\u001b[0m \u001b[38;5;124;03m    Load a model stored in Python function format.\u001b[39;00m\n\u001b[1;32m    608\u001b[0m \n\u001b[0;32m   (...)\u001b[0m\n\u001b[1;32m    632\u001b[0m \u001b[38;5;124;03m                                             release without warning.\u001b[39;00m\n\u001b[1;32m    633\u001b[0m \u001b[38;5;124;03m    \"\"\"\u001b[39;00m\n\u001b[0;32m--> 634\u001b[0m     local_path \u001b[38;5;241m=\u001b[39m \u001b[43m_download_artifact_from_uri\u001b[49m\u001b[43m(\u001b[49m\u001b[43martifact_uri\u001b[49m\u001b[38;5;241;43m=\u001b[39;49m\u001b[43mmodel_uri\u001b[49m\u001b[43m,\u001b[49m\u001b[43m \u001b[49m\u001b[43moutput_path\u001b[49m\u001b[38;5;241;43m=\u001b[39;49m\u001b[43mdst_path\u001b[49m\u001b[43m)\u001b[49m\n\u001b[1;32m    636\u001b[0m     \u001b[38;5;28;01mif\u001b[39;00m \u001b[38;5;129;01mnot\u001b[39;00m suppress_warnings:\n\u001b[1;32m    637\u001b[0m         model_requirements \u001b[38;5;241m=\u001b[39m _get_pip_requirements_from_model_path(local_path)\n",
      "File \u001b[0;32m~/opt/anaconda3/envs/MLX_workshop_2_feb_mlflow/lib/python3.11/site-packages/mlflow/tracking/artifact_utils.py:100\u001b[0m, in \u001b[0;36m_download_artifact_from_uri\u001b[0;34m(artifact_uri, output_path)\u001b[0m\n\u001b[1;32m     94\u001b[0m \u001b[38;5;250m\u001b[39m\u001b[38;5;124;03m\"\"\"\u001b[39;00m\n\u001b[1;32m     95\u001b[0m \u001b[38;5;124;03m:param artifact_uri: The *absolute* URI of the artifact to download.\u001b[39;00m\n\u001b[1;32m     96\u001b[0m \u001b[38;5;124;03m:param output_path: The local filesystem path to which to download the artifact. If unspecified,\u001b[39;00m\n\u001b[1;32m     97\u001b[0m \u001b[38;5;124;03m                    a local output path will be created.\u001b[39;00m\n\u001b[1;32m     98\u001b[0m \u001b[38;5;124;03m\"\"\"\u001b[39;00m\n\u001b[1;32m     99\u001b[0m root_uri, artifact_path \u001b[38;5;241m=\u001b[39m _get_root_uri_and_artifact_path(artifact_uri)\n\u001b[0;32m--> 100\u001b[0m \u001b[38;5;28;01mreturn\u001b[39;00m \u001b[43mget_artifact_repository\u001b[49m\u001b[43m(\u001b[49m\u001b[43martifact_uri\u001b[49m\u001b[38;5;241;43m=\u001b[39;49m\u001b[43mroot_uri\u001b[49m\u001b[43m)\u001b[49m\u001b[38;5;241;43m.\u001b[39;49m\u001b[43mdownload_artifacts\u001b[49m\u001b[43m(\u001b[49m\n\u001b[1;32m    101\u001b[0m \u001b[43m    \u001b[49m\u001b[43martifact_path\u001b[49m\u001b[38;5;241;43m=\u001b[39;49m\u001b[43martifact_path\u001b[49m\u001b[43m,\u001b[49m\u001b[43m \u001b[49m\u001b[43mdst_path\u001b[49m\u001b[38;5;241;43m=\u001b[39;49m\u001b[43moutput_path\u001b[49m\n\u001b[1;32m    102\u001b[0m \u001b[43m\u001b[49m\u001b[43m)\u001b[49m\n",
      "File \u001b[0;32m~/opt/anaconda3/envs/MLX_workshop_2_feb_mlflow/lib/python3.11/site-packages/mlflow/store/artifact/models_artifact_repo.py:178\u001b[0m, in \u001b[0;36mModelsArtifactRepository.download_artifacts\u001b[0;34m(self, artifact_path, dst_path)\u001b[0m\n\u001b[1;32m    159\u001b[0m \u001b[38;5;250m\u001b[39m\u001b[38;5;124;03m\"\"\"\u001b[39;00m\n\u001b[1;32m    160\u001b[0m \u001b[38;5;124;03mDownload an artifact file or directory to a local directory if applicable, and return a\u001b[39;00m\n\u001b[1;32m    161\u001b[0m \u001b[38;5;124;03mlocal path for it.\u001b[39;00m\n\u001b[0;32m   (...)\u001b[0m\n\u001b[1;32m    173\u001b[0m \u001b[38;5;124;03m:return: Absolute path of the local filesystem location containing the desired artifacts.\u001b[39;00m\n\u001b[1;32m    174\u001b[0m \u001b[38;5;124;03m\"\"\"\u001b[39;00m\n\u001b[1;32m    176\u001b[0m \u001b[38;5;28;01mfrom\u001b[39;00m \u001b[38;5;21;01mmlflow\u001b[39;00m\u001b[38;5;21;01m.\u001b[39;00m\u001b[38;5;21;01mmodels\u001b[39;00m\u001b[38;5;21;01m.\u001b[39;00m\u001b[38;5;21;01mmodel\u001b[39;00m \u001b[38;5;28;01mimport\u001b[39;00m MLMODEL_FILE_NAME\n\u001b[0;32m--> 178\u001b[0m model_path \u001b[38;5;241m=\u001b[39m \u001b[38;5;28;43mself\u001b[39;49m\u001b[38;5;241;43m.\u001b[39;49m\u001b[43mrepo\u001b[49m\u001b[38;5;241;43m.\u001b[39;49m\u001b[43mdownload_artifacts\u001b[49m\u001b[43m(\u001b[49m\u001b[43martifact_path\u001b[49m\u001b[43m,\u001b[49m\u001b[43m \u001b[49m\u001b[43mdst_path\u001b[49m\u001b[43m)\u001b[49m\n\u001b[1;32m    179\u001b[0m \u001b[38;5;66;03m# NB: only add the registered model metadata iff the artifact path is at the root model\u001b[39;00m\n\u001b[1;32m    180\u001b[0m \u001b[38;5;66;03m# directory. For individual files or subdirectories within the model directory, do not\u001b[39;00m\n\u001b[1;32m    181\u001b[0m \u001b[38;5;66;03m# create the metadata file.\u001b[39;00m\n\u001b[1;32m    182\u001b[0m \u001b[38;5;28;01mif\u001b[39;00m os\u001b[38;5;241m.\u001b[39mpath\u001b[38;5;241m.\u001b[39misdir(model_path) \u001b[38;5;129;01mand\u001b[39;00m MLMODEL_FILE_NAME \u001b[38;5;129;01min\u001b[39;00m os\u001b[38;5;241m.\u001b[39mlistdir(model_path):\n",
      "File \u001b[0;32m~/opt/anaconda3/envs/MLX_workshop_2_feb_mlflow/lib/python3.11/site-packages/mlflow/store/artifact/artifact_repo.py:222\u001b[0m, in \u001b[0;36mArtifactRepository.download_artifacts\u001b[0;34m(self, artifact_path, dst_path)\u001b[0m\n\u001b[1;32m    218\u001b[0m     template \u001b[38;5;241m=\u001b[39m \u001b[38;5;124m\"\u001b[39m\u001b[38;5;124m##### File \u001b[39m\u001b[38;5;132;01m{path}\u001b[39;00m\u001b[38;5;124m #####\u001b[39m\u001b[38;5;130;01m\\n\u001b[39;00m\u001b[38;5;132;01m{error}\u001b[39;00m\u001b[38;5;124m\"\u001b[39m\n\u001b[1;32m    219\u001b[0m     failures \u001b[38;5;241m=\u001b[39m \u001b[38;5;124m\"\u001b[39m\u001b[38;5;130;01m\\n\u001b[39;00m\u001b[38;5;124m\"\u001b[39m\u001b[38;5;241m.\u001b[39mjoin(\n\u001b[1;32m    220\u001b[0m         template\u001b[38;5;241m.\u001b[39mformat(path\u001b[38;5;241m=\u001b[39mpath, error\u001b[38;5;241m=\u001b[39merror) \u001b[38;5;28;01mfor\u001b[39;00m path, error \u001b[38;5;129;01min\u001b[39;00m failed_downloads\u001b[38;5;241m.\u001b[39mitems()\n\u001b[1;32m    221\u001b[0m     )\n\u001b[0;32m--> 222\u001b[0m     \u001b[38;5;28;01mraise\u001b[39;00m MlflowException(\n\u001b[1;32m    223\u001b[0m         message\u001b[38;5;241m=\u001b[39m(\n\u001b[1;32m    224\u001b[0m             \u001b[38;5;124m\"\u001b[39m\u001b[38;5;124mThe following failures occurred while downloading one or more\u001b[39m\u001b[38;5;124m\"\u001b[39m\n\u001b[1;32m    225\u001b[0m             \u001b[38;5;124mf\u001b[39m\u001b[38;5;124m\"\u001b[39m\u001b[38;5;124m artifacts from \u001b[39m\u001b[38;5;132;01m{\u001b[39;00m\u001b[38;5;28mself\u001b[39m\u001b[38;5;241m.\u001b[39martifact_uri\u001b[38;5;132;01m}\u001b[39;00m\u001b[38;5;124m:\u001b[39m\u001b[38;5;130;01m\\n\u001b[39;00m\u001b[38;5;132;01m{\u001b[39;00m_truncate_error(failures)\u001b[38;5;132;01m}\u001b[39;00m\u001b[38;5;124m\"\u001b[39m\n\u001b[1;32m    226\u001b[0m         )\n\u001b[1;32m    227\u001b[0m     )\n\u001b[1;32m    229\u001b[0m \u001b[38;5;28;01mreturn\u001b[39;00m os\u001b[38;5;241m.\u001b[39mpath\u001b[38;5;241m.\u001b[39mjoin(dst_path, artifact_path)\n",
      "\u001b[0;31mMlflowException\u001b[0m: The following failures occurred while downloading one or more artifacts from http://localhost:5000/api/2.0/mlflow-artifacts/artifacts/912598759279177923/32f94ebc42b44a0e973f59f66c66d72e/artifacts/model:\n##### File  #####\nAPI request to http://localhost:5000/api/2.0/mlflow-artifacts/artifacts/912598759279177923/32f94ebc42b44a0e973f59f66c66d72e/artifacts/model/ failed with exception HTTPConnectionPool(host='localhost', port=5000): Max retries exceeded with url: /api/2.0/mlflow-artifacts/artifacts/912598759279177923/32f94ebc42b44a0e973f59f66c66d72e/artifacts/model/ (Caused by ResponseError('too many 500 error responses'))"
     ]
    }
   ],
   "source": [
    "model_uri = \"models:/test_lang_classification_model/1\"\n",
    "model_from_mlflow = mlflow.pyfunc.load_model(model_uri)"
   ]
  },
  {
   "cell_type": "markdown",
   "id": "bf179199-1a5c-4c09-8ffc-aef98ba64c0d",
   "metadata": {},
   "source": [
    "# Prepare Data and DataLoader for Classification MLP Layer"
   ]
  },
  {
   "cell_type": "code",
   "execution_count": 37,
   "id": "cf273aa4-bdc3-4bc2-861b-76a234adc6e9",
   "metadata": {},
   "outputs": [],
   "source": [
    "from lang_class_datasets import LangData\n",
    "# Need data in format (sentence, language_id, language)\n",
    "data = pd.read_parquet(\"./Flores7Lang.parquet\")\n",
    "lang_classification_ds = LangData(data)\n",
    "lang_classification_dl = torch.utils.data.DataLoader(lang_classification_ds, batch_size=1, shuffle=True)"
   ]
  },
  {
   "cell_type": "markdown",
   "id": "653044ec-16ee-46e6-bd0e-074b96f75b18",
   "metadata": {},
   "source": [
    "# Create Classification Model (initialized with W2V weights)"
   ]
  },
  {
   "cell_type": "code",
   "execution_count": 38,
   "id": "6547d927-b28e-420c-8981-88b2653b66d2",
   "metadata": {},
   "outputs": [],
   "source": [
    "from model import Language\n",
    "vocab_size = len(lang_classification_ds.tknz.vocab)\n",
    "state_dict = torch.load(f'cbow_epoch_{n_epochs}.pt')\n",
    "pre_trained_cbow = CBOW(len(w2v_dataset.tokenizer.vocab), 50)\n",
    "pre_trained_cbow.load_state_dict(state_dict)\n",
    "classification_model = Language(pre_trained_cbow.embeddings.weight.data, 7)"
   ]
  },
  {
   "cell_type": "markdown",
   "id": "f0d7ce61-8e91-4dbd-a0e0-e57115f600ab",
   "metadata": {},
   "source": [
    "# Create Loss Function and Optimizer"
   ]
  },
  {
   "cell_type": "code",
   "execution_count": 39,
   "id": "5fcb7fcc-147a-42de-af98-7316a7819400",
   "metadata": {},
   "outputs": [],
   "source": [
    "# Classification --> use cross entropy\n",
    "loss_function = torch.nn.CrossEntropyLoss()\n",
    "optimizer = torch.optim.SGD(classification_model.parameters(), lr=0.001)"
   ]
  },
  {
   "cell_type": "markdown",
   "id": "8d2964c7-51aa-4301-bf11-a222eeb8a1b2",
   "metadata": {},
   "source": [
    "# Run Training Loop for Classification Model"
   ]
  },
  {
   "cell_type": "code",
   "execution_count": 45,
   "id": "f4f51f38-1ad5-48da-a39c-4197a32e1fd2",
   "metadata": {},
   "outputs": [
    {
     "name": "stderr",
     "output_type": "stream",
     "text": [
      "100%|████████████████████████████████| 14063/14063 [00:11<00:00, 1264.85batch/s]\n",
      "100%|████████████████████████████████| 14063/14063 [00:11<00:00, 1266.17batch/s]\n",
      "100%|████████████████████████████████| 14063/14063 [00:11<00:00, 1252.94batch/s]\n"
     ]
    }
   ],
   "source": [
    "n_epochs_classification = 3\n",
    "for epoch in range(n_epochs_classification):\n",
    "    for sentence, target, _ in tqdm.tqdm(lang_classification_dl, unit='batch'):\n",
    "        optimizer.zero_grad()\n",
    "        log_probs = classification_model(sentence)\n",
    "        loss = loss_function(log_probs, target)\n",
    "        loss.backward()\n",
    "        optimizer.step()\n",
    "        # print(f\"Epoch {epoch+1}/5, Loss: {loss.item()}\")\n",
    "    torch.save(classification_model.state_dict(), f\"./classification_model_epoch_{n_epochs_classification+1}.pt\")"
   ]
  },
  {
   "cell_type": "markdown",
   "id": "f759e90c-6910-4436-8db1-0fdd0c5210e4",
   "metadata": {},
   "source": [
    "# Load pre-trained model"
   ]
  },
  {
   "cell_type": "code",
   "execution_count": 32,
   "id": "e70671ad",
   "metadata": {},
   "outputs": [
    {
     "name": "stdout",
     "output_type": "stream",
     "text": [
      "torch.Size([26679, 50])\n"
     ]
    },
    {
     "data": {
      "text/plain": [
       "<All keys matched successfully>"
      ]
     },
     "execution_count": 32,
     "metadata": {},
     "output_type": "execute_result"
    }
   ],
   "source": [
    "from model import Language\n",
    "from tokenizer import Tokenizer\n",
    "# Load pretrained classification model\n",
    "state_dict_classification = torch.load(f'classification_model_epoch_4.pt')\n",
    "# Initialise tokenizer with vocab\n",
    "tokenizer = (Tokenizer()).load_vocab(\"./vocab.txt\")\n",
    "# Use tokenizer vocab size to initialise language classification model\n",
    "classification_model = Language(torch.rand(len(tokenizer.vocab), 50), 7)\n",
    "print (pre_trained_cbow.embeddings.weight.data.shape)\n",
    "# Load pre-trained weights into classification model\n",
    "classification_model.load_state_dict(state_dict_classification)\n",
    "# Set language ordering\n",
    "langs = [\"German\", \"Esperanto\", \"French\", \"Italian\", \"Spanish\", \"Turkish\", \"English\"]\n",
    "classification_model.eval()\n"
   ]
  },
  {
   "cell_type": "markdown",
   "id": "e74d2714",
   "metadata": {},
   "source": [
    "# Predict language of dummy text"
   ]
  },
  {
   "cell_type": "code",
   "execution_count": 34,
   "id": "3c1b72ef",
   "metadata": {},
   "outputs": [
    {
     "data": {
      "text/plain": [
       "[{'class': 'German', 'value': 0.0076903305016458035},\n",
       " {'class': 'Esperanto', 'value': 0.34975698590278625},\n",
       " {'class': 'French', 'value': 0.1005527600646019},\n",
       " {'class': 'Italian', 'value': 0.020299967378377914},\n",
       " {'class': 'Spanish', 'value': 0.44341129064559937},\n",
       " {'class': 'Turkish', 'value': 0.060587987303733826},\n",
       " {'class': 'English', 'value': 0.01770068146288395}]"
      ]
     },
     "execution_count": 34,
     "metadata": {},
     "output_type": "execute_result"
    }
   ],
   "source": [
    "text = 'the cat sat on the hat'\n",
    "tokens = tokenizer.encode(text)\n",
    "tokens = torch.tensor(tokens, dtype=torch.long).unsqueeze(0)\n",
    "# Pass tokens through forward method of model\n",
    "predictions = classification_model(tokens)\n",
    "# Softmax to get probability distribution\n",
    "predictions_softmaxed = torch.nn.functional.softmax(predictions, dim=1)\n",
    "predictions_softmaxed = predictions_softmaxed.squeeze(0).tolist()\n",
    "\n",
    "result = [{\"class\": class_name, \"value\": value} for class_name, value in zip(langs, predictions_softmaxed)]\n",
    "result"
   ]
  },
  {
   "cell_type": "markdown",
   "id": "da02a11d",
   "metadata": {},
   "source": []
  }
 ],
 "metadata": {
  "kernelspec": {
   "display_name": "Python 3 (ipykernel)",
   "language": "python",
   "name": "python3"
  },
  "language_info": {
   "codemirror_mode": {
    "name": "ipython",
    "version": 3
   },
   "file_extension": ".py",
   "mimetype": "text/x-python",
   "name": "python",
   "nbconvert_exporter": "python",
   "pygments_lexer": "ipython3",
   "version": "3.11.7"
  }
 },
 "nbformat": 4,
 "nbformat_minor": 5
}
